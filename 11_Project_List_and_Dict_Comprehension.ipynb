{
  "cells": [
    {
      "cell_type": "markdown",
      "metadata": {
        "id": "view-in-github",
        "colab_type": "text"
      },
      "source": [
        "<a href=\"https://colab.research.google.com/github/MlungisiN/Learn-Python-With-Rune/blob/master/11_Project_List_and_Dict_Comprehension.ipynb\" target=\"_parent\"><img src=\"https://colab.research.google.com/assets/colab-badge.svg\" alt=\"Open In Colab\"/></a>"
      ]
    },
    {
      "cell_type": "markdown",
      "id": "58a886d8",
      "metadata": {
        "id": "58a886d8"
      },
      "source": [
        "<a \n",
        " href=\"https://colab.research.google.com/github/LearnPythonWithRune/LearnPython/blob/main/colab/starter/11 - Project - List and Dict Comprehension.ipynb\"\n",
        " target=\"_parent\">\n",
        "<img \n",
        " src=\"https://colab.research.google.com/assets/colab-badge.svg\"\n",
        "alt=\"Open In Colab\"/>\n",
        "</a>"
      ]
    },
    {
      "cell_type": "markdown",
      "id": "6d52fc50",
      "metadata": {
        "id": "6d52fc50"
      },
      "source": [
        "# Project - List and Dict Comprehension\n",
        "### Goal\n",
        "- Learn to use list and dict comprehension"
      ]
    },
    {
      "cell_type": "markdown",
      "id": "55903c26",
      "metadata": {
        "id": "55903c26"
      },
      "source": [
        "### Description\n",
        "- Redo some of our code"
      ]
    },
    {
      "cell_type": "markdown",
      "id": "c083b523",
      "metadata": {
        "id": "c083b523"
      },
      "source": [
        "### Encrypt with List Comprehension\n",
        "- Use **encrypt_char** and list comprehension to encrypt a string (\"you are awesome\").\n",
        "- HINT: You can use join(.)"
      ]
    },
    {
      "cell_type": "code",
      "execution_count": 4,
      "id": "9f437155",
      "metadata": {
        "id": "9f437155"
      },
      "outputs": [],
      "source": [
        "def encrypt_char(char, key):\n",
        "  return chr(ord('A') + (ord(char) - ord('A') + key) % 26)"
      ]
    },
    {
      "cell_type": "code",
      "execution_count": 23,
      "id": "88d41cc2",
      "metadata": {
        "colab": {
          "base_uri": "https://localhost:8080/",
          "height": 55
        },
        "id": "88d41cc2",
        "outputId": "35a383d5-31ca-4a91-b1e9-3de403401d4e"
      },
      "outputs": [
        {
          "name": "stdout",
          "output_type": "stream",
          "text": [
            "Input message: you are awesome\n"
          ]
        },
        {
          "output_type": "execute_result",
          "data": {
            "text/plain": [
              "'BRX DUH DZHVRPH'"
            ],
            "application/vnd.google.colaboratory.intrinsic+json": {
              "type": "string"
            }
          },
          "metadata": {},
          "execution_count": 23
        }
      ],
      "source": [
        "message = input(\"Input message: \")\n",
        "key = 3\n",
        "cipher_message = [encrypt_char(char, key) if char not in ' .,' else char for char in message.upper()]\n",
        "''.join(cipher)"
      ]
    },
    {
      "cell_type": "markdown",
      "id": "99ea9003",
      "metadata": {
        "id": "99ea9003"
      },
      "source": [
        "### Decrypt with List Comprehension\n",
        "- Use **decrypt_char** and list comprehension to decrypt the cipher."
      ]
    },
    {
      "cell_type": "code",
      "execution_count": 24,
      "id": "0e0791ed",
      "metadata": {
        "id": "0e0791ed"
      },
      "outputs": [],
      "source": [
        "def decrypt_char(char, key):\n",
        "  return encrypt_char(char, 26 - key)"
      ]
    },
    {
      "cell_type": "code",
      "execution_count": 27,
      "id": "056c2947",
      "metadata": {
        "colab": {
          "base_uri": "https://localhost:8080/",
          "height": 36
        },
        "id": "056c2947",
        "outputId": "17fa89bd-ff28-464f-8263-8706306de6cd"
      },
      "outputs": [
        {
          "output_type": "execute_result",
          "data": {
            "text/plain": [
              "'YOU ARE AWESOME'"
            ],
            "application/vnd.google.colaboratory.intrinsic+json": {
              "type": "string"
            }
          },
          "metadata": {},
          "execution_count": 27
        }
      ],
      "source": [
        "cipher = 'BRX DUH DZHVRPH'\n",
        "key = 3\n",
        "\n",
        "message_list = [decrypt_char(char, key) if char not in ' ,.' else char for char in cipher.upper()]\n",
        "''.join(message_list)"
      ]
    },
    {
      "cell_type": "markdown",
      "id": "fb4ad7d5",
      "metadata": {
        "id": "fb4ad7d5"
      },
      "source": [
        "### Use Dict Comprehension for Frequency Count\n",
        "- Prompt the user for a line of text.\n",
        "- Use dict comprehension to count the number of occurences of each characerter.\n",
        "- Example: \"aabbccccc\" should give {'a': 2, 'b': 2, 'c': 5}\n",
        "- HINT: using count('a') on a string will return the number of occurences of 'a'."
      ]
    },
    {
      "cell_type": "code",
      "execution_count": 32,
      "id": "bdf2fd1e",
      "metadata": {
        "colab": {
          "base_uri": "https://localhost:8080/"
        },
        "id": "bdf2fd1e",
        "outputId": "40f90c17-70aa-48e4-d794-b1231abc239b"
      },
      "outputs": [
        {
          "name": "stdout",
          "output_type": "stream",
          "text": [
            "Input a line of text: kjfnsfsfkjfkjkfsk\n"
          ]
        },
        {
          "output_type": "execute_result",
          "data": {
            "text/plain": [
              "{'k': 5, 'j': 3, 'f': 5, 'n': 1, 's': 3}"
            ]
          },
          "metadata": {},
          "execution_count": 32
        }
      ],
      "source": [
        "text = input(\"Input a line of text: \")\n",
        "\n",
        "{char: text.count(char) for char in text}"
      ]
    },
    {
      "cell_type": "code",
      "execution_count": null,
      "id": "af329153",
      "metadata": {
        "id": "af329153"
      },
      "outputs": [],
      "source": []
    }
  ],
  "metadata": {
    "colab": {
      "provenance": [],
      "collapsed_sections": [],
      "include_colab_link": true
    },
    "language_info": {
      "name": "python"
    },
    "kernelspec": {
      "name": "python3",
      "display_name": "Python 3"
    }
  },
  "nbformat": 4,
  "nbformat_minor": 5
}