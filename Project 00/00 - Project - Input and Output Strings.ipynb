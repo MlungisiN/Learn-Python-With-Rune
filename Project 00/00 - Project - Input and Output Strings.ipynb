{
 "cells": [
  {
   "cell_type": "markdown",
   "metadata": {},
   "source": [
    "# Project - Input and Output Strings\n",
    "### Goal\n",
    "- Get to know Jupyter Notebook\n",
    "- Execute your first program(s)"
   ]
  },
  {
   "cell_type": "markdown",
   "metadata": {},
   "source": [
    "### Description\n",
    "- This project is in 3 steps\n",
    "- The purpose is to get comforatble with Jupyter Notebook"
   ]
  },
  {
   "cell_type": "markdown",
   "metadata": {},
   "source": [
    "### Step 1\n",
    "- Make your first print \"Hello, World!\" program\n",
    "- Execute the cell"
   ]
  },
  {
   "cell_type": "code",
   "execution_count": 2,
   "id": "01dd1dd1",
   "metadata": {},
   "outputs": [
    {
     "name": "stdout",
     "output_type": "stream",
     "text": [
      "Hello, World!\n"
     ]
    }
   ],
   "source": [
    "print(\"Hello, World!\")"
   ]
  },
  {
   "cell_type": "markdown",
   "metadata": {},
   "source": [
    "### Step 2\n",
    "- Use input to get the name from user.\n",
    "- Print *Hello* and the the name of the user"
   ]
  },
  {
   "cell_type": "code",
   "execution_count": 1,
   "id": "bac6a408",
   "metadata": {},
   "outputs": [
    {
     "name": "stdout",
     "output_type": "stream",
     "text": [
      "What is your name? Mlungisi\n",
      "Hello Mlungisi\n"
     ]
    }
   ],
   "source": [
    "name = input(\"What is your name? \")\n",
    "print(\"Hello\" ,name)"
   ]
  },
  {
   "cell_type": "markdown",
   "metadata": {},
   "source": [
    "### Step 3\n",
    "- Use input to get the name from user.\n",
    "- Print \"I LIKE CAPITAL LETTER\" and the name capitalized by using **.upper()**"
   ]
  },
  {
   "cell_type": "code",
   "execution_count": 4,
   "id": "f024ca38",
   "metadata": {},
   "outputs": [
    {
     "name": "stdout",
     "output_type": "stream",
     "text": [
      "What is your name? mlungisi\n",
      "I LIKE CAPITAL LETTER MLUNGISI\n"
     ]
    }
   ],
   "source": [
    "name = input(\"What is your name? \")\n",
    "print(\"I LIKE CAPITAL LETTER\", name.upper())"
   ]
  },
  {
   "cell_type": "code",
   "execution_count": null,
   "metadata": {},
   "outputs": [],
   "source": []
  }
 ],
 "metadata": {
  "kernelspec": {
   "display_name": "Python 3",
   "language": "python",
   "name": "python3"
  },
  "language_info": {
   "codemirror_mode": {
    "name": "ipython",
    "version": 3
   },
   "file_extension": ".py",
   "mimetype": "text/x-python",
   "name": "python",
   "nbconvert_exporter": "python",
   "pygments_lexer": "ipython3",
   "version": "3.8.8"
  }
 },
 "nbformat": 4,
 "nbformat_minor": 4
}
