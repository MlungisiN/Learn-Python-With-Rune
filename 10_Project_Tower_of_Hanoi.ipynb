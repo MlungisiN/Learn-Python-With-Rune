{
  "cells": [
    {
      "cell_type": "markdown",
      "metadata": {
        "id": "view-in-github",
        "colab_type": "text"
      },
      "source": [
        "<a href=\"https://colab.research.google.com/github/MlungisiN/Learn-Python-With-Rune/blob/master/10_Project_Tower_of_Hanoi.ipynb\" target=\"_parent\"><img src=\"https://colab.research.google.com/assets/colab-badge.svg\" alt=\"Open In Colab\"/></a>"
      ]
    },
    {
      "cell_type": "markdown",
      "id": "5d62d3a8",
      "metadata": {
        "id": "5d62d3a8"
      },
      "source": [
        "<a \n",
        " href=\"https://colab.research.google.com/github/LearnPythonWithRune/LearnPython/blob/main/colab/starter/10 - Project - Tower of Hanoi.ipynb\"\n",
        " target=\"_parent\">\n",
        "<img \n",
        " src=\"https://colab.research.google.com/assets/colab-badge.svg\"\n",
        "alt=\"Open In Colab\"/>\n",
        "</a>"
      ]
    },
    {
      "cell_type": "markdown",
      "id": "28cec6be",
      "metadata": {
        "id": "28cec6be"
      },
      "source": [
        "# Project - Tower of Hanoi\n",
        "### Goal\n",
        "- Solve [Tower of Hanoi](https://en.wikipedia.org/wiki/Tower_of_Hanoi) recusive"
      ]
    },
    {
      "cell_type": "markdown",
      "id": "d2ca3e77",
      "metadata": {
        "id": "d2ca3e77"
      },
      "source": [
        "### Description of Tower of Hanoi\n",
        "- Tower of Hanoi is a mathematical game, which has three rules. Before we set the rules, let’s see how our universe looks like.\n",
        "\n",
        "![Tower of Hanoi](img/TowerOfHanoi-01.png)\n",
        "\n",
        "- All the disks have different sizes.\n",
        "- The goal is to move all the disks from on tower (rod) to another one with the following 3 rules.\n",
        "    1. You can only move one disk at the time.\n",
        "    2. You can only take the top disk and place on top of another tower (rod).\n",
        "    3. You cannot place a bigger disk on top of a smaller disk.\n",
        "\n",
        "- The first two rules combined means that you can only take one top disk and move it.\n",
        "\n",
        "![Tower of Hanoi](img/TowerOfHanoi-02.png)\n",
        "\n",
        "- The third rule says, that we cannot move disk 2 on top of disk 1.\n",
        "\n",
        "![Tower of Hanoi](img/TowerOfHanoi-03.png)\n",
        "\n",
        "- Game: How do you get from here.\n",
        "\n",
        "![Tower of Hanoi](img/TowerOfHanoi-01.png)\n",
        "\n",
        "- To here - following the 3 rules.\n",
        "\n",
        "![Tower of Hanoi](img/TowerOfHanoi-04.png)"
      ]
    },
    {
      "cell_type": "markdown",
      "id": "e6c75894",
      "metadata": {
        "id": "e6c75894"
      },
      "source": [
        "### How to Solve Tower of Hanoi\n",
        "- Assume you can solve the smaller problem of 2 disks.\n",
        "- Then we can move 2 disk at the same time\n",
        "\n",
        "![Tower of Hanoi](img/TowerOfHanoi-05.png)\n",
        "\n",
        "- Then we can move disk 3 on place.\n",
        "\n",
        "![Tower of Hanoi](img/TowerOfHanoi-06.png)\n",
        "\n",
        "- And we can move the subproblem of 2 disk on place.\n",
        "\n",
        "![Tower of Hanoi](img/TowerOfHanoi-04.png)"
      ]
    },
    {
      "cell_type": "markdown",
      "id": "ddf06022",
      "metadata": {
        "id": "ddf06022"
      },
      "source": [
        "### Recursion\n",
        "- That is the formula. It is all you need to know.\n",
        "    1. Move the smaller problem of 2 disks from first tower (rod) to second tower (rod).\n",
        "    2. Move the big disk from first tower (rod) to last tower (rod).\n",
        "    3. Move the smaller problem of 2 disks from second tower (rod) to last tower (rod)."
      ]
    },
    {
      "cell_type": "markdown",
      "id": "34f389ee",
      "metadata": {
        "id": "34f389ee"
      },
      "source": [
        "### Steps\n",
        "- Step 1: Represent the towers as [[3, 2, 1], [], []]\n",
        "- Step 2: Create a move function, which takes the towers and can move a disk from one tower to another.\n",
        "    - HINT: Use **.pop()** and **.append(.)**\n",
        "- Step 3: Make a helper function to print the towers\n",
        "    - HINT: Assume that we have 3 towers and 3 disks\n",
        "- Step 4: The recursive function\n",
        "    - **solve_tower_of_hanoi(towers, n, start_tower, dest_tower, aux_tower)**\n",
        "    - **n** is the number of disks we move, starting with 3, then we call recursive down with 2, 1, and 0.\n",
        "    - The base case is **n = 0**, just return in that case\n",
        "    - Move subproblem of n - 1 disks from start_tower to aux_tower.\n",
        "    - Move disk n to dest_tower. (you can print the tower here if you like)\n",
        "    - Move subproblem of n - 1 disk from aux_tower to dest_tower."
      ]
    },
    {
      "cell_type": "code",
      "execution_count": 7,
      "id": "3ce6d36d",
      "metadata": {
        "id": "3ce6d36d"
      },
      "outputs": [],
      "source": [
        "towers = [[3, 2, 1], [], []]"
      ]
    },
    {
      "cell_type": "code",
      "execution_count": 10,
      "id": "2e39ed41",
      "metadata": {
        "id": "2e39ed41",
        "colab": {
          "base_uri": "https://localhost:8080/"
        },
        "outputId": "ef8486ff-efb6-42d0-b8fc-8a9e9b6ce343"
      },
      "outputs": [
        {
          "output_type": "execute_result",
          "data": {
            "text/plain": [
              "[3, 2, 1]"
            ]
          },
          "metadata": {},
          "execution_count": 10
        }
      ],
      "source": [
        "towers[0]"
      ]
    },
    {
      "cell_type": "code",
      "execution_count": 12,
      "id": "a9611ed2",
      "metadata": {
        "id": "a9611ed2"
      },
      "outputs": [],
      "source": [
        "def move(towers, from_tower, dest_tower):\n",
        "  disk = towers[from_tower].pop()\n",
        "  towers[dest_tower].append(disk)\n",
        "  return(towers)"
      ]
    },
    {
      "cell_type": "code",
      "execution_count": 26,
      "id": "e2de9258",
      "metadata": {
        "id": "e2de9258"
      },
      "outputs": [],
      "source": [
        "towers = move(towers, 2, 0)"
      ]
    },
    {
      "cell_type": "code",
      "execution_count": 27,
      "id": "33a6a8af",
      "metadata": {
        "id": "33a6a8af",
        "colab": {
          "base_uri": "https://localhost:8080/"
        },
        "outputId": "d4fe51f0-4990-49c7-84f9-97929c47b4d3"
      },
      "outputs": [
        {
          "output_type": "execute_result",
          "data": {
            "text/plain": [
              "[[3, 2, 1], [], []]"
            ]
          },
          "metadata": {},
          "execution_count": 27
        }
      ],
      "source": [
        "towers"
      ]
    },
    {
      "cell_type": "code",
      "execution_count": 31,
      "id": "31b5e12c",
      "metadata": {
        "id": "31b5e12c"
      },
      "outputs": [],
      "source": [
        "def print_towers(towers):\n",
        "  for i in range(3, 0, -1):\n",
        "    for tower in towers:\n",
        "      if len(tower) >= i:\n",
        "        print(tower[i - 1], end=' ')\n",
        "      else:\n",
        "        print('|', end=' ')\n",
        "    print()\n",
        "  print('-------')"
      ]
    },
    {
      "cell_type": "code",
      "execution_count": 32,
      "id": "42138bde",
      "metadata": {
        "id": "42138bde",
        "colab": {
          "base_uri": "https://localhost:8080/"
        },
        "outputId": "1421a451-aefc-4740-83f5-bc1de6dff80c"
      },
      "outputs": [
        {
          "output_type": "stream",
          "name": "stdout",
          "text": [
            "1 | | \n",
            "2 | | \n",
            "3 | | \n",
            "-------\n"
          ]
        }
      ],
      "source": [
        "print_towers(towers)"
      ]
    },
    {
      "cell_type": "code",
      "source": [
        "def solve_tower_of_hanoi(towers, n, start_tower, dest_tower, aux_tower):\n",
        "  if n == 0:\n",
        "    return\n",
        "  #Move subproblem of n - 1 disks from start_tower to aux_tower.\n",
        "  solve_tower_of_hanoi(towers, n - 1, start_tower, aux_tower, dest_tower)\n",
        "\n",
        "  #Move disk n to dest_tower. \n",
        "  move(towers, start_tower, dest_tower)\n",
        "  print_towers(towers)\n",
        "\n",
        "  #Move subproblem of n - 1 disk from aux_tower to dest_tower.\n",
        "  solve_tower_of_hanoi(towers, n - 1, aux_tower, dest_tower, start_tower)"
      ],
      "metadata": {
        "id": "RHqMOBFZdKG7"
      },
      "id": "RHqMOBFZdKG7",
      "execution_count": 35,
      "outputs": []
    },
    {
      "cell_type": "code",
      "source": [
        "towers = [[3, 2, 1], [], []]\n",
        "print_towers(towers)\n",
        "solve_tower_of_hanoi(towers, 3, 0, 2, 1)"
      ],
      "metadata": {
        "colab": {
          "base_uri": "https://localhost:8080/"
        },
        "id": "EhDO4znGgb3f",
        "outputId": "2cbc43fe-b5b0-4ff5-b651-f111e7753f65"
      },
      "id": "EhDO4znGgb3f",
      "execution_count": 36,
      "outputs": [
        {
          "output_type": "stream",
          "name": "stdout",
          "text": [
            "1 | | \n",
            "2 | | \n",
            "3 | | \n",
            "-------\n",
            "| | | \n",
            "2 | | \n",
            "3 | 1 \n",
            "-------\n",
            "| | | \n",
            "| | | \n",
            "3 2 1 \n",
            "-------\n",
            "| | | \n",
            "| 1 | \n",
            "3 2 | \n",
            "-------\n",
            "| | | \n",
            "| 1 | \n",
            "| 2 3 \n",
            "-------\n",
            "| | | \n",
            "| | | \n",
            "1 2 3 \n",
            "-------\n",
            "| | | \n",
            "| | 2 \n",
            "1 | 3 \n",
            "-------\n",
            "| | 1 \n",
            "| | 2 \n",
            "| | 3 \n",
            "-------\n"
          ]
        }
      ]
    },
    {
      "cell_type": "code",
      "source": [],
      "metadata": {
        "id": "rb0XO9IRgx0d"
      },
      "id": "rb0XO9IRgx0d",
      "execution_count": null,
      "outputs": []
    }
  ],
  "metadata": {
    "colab": {
      "provenance": [],
      "collapsed_sections": [],
      "include_colab_link": true
    },
    "language_info": {
      "name": "python"
    },
    "kernelspec": {
      "name": "python3",
      "display_name": "Python 3"
    }
  },
  "nbformat": 4,
  "nbformat_minor": 5
}