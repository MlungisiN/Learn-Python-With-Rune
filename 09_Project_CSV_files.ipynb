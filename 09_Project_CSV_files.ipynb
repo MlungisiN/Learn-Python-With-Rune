{
  "cells": [
    {
      "cell_type": "markdown",
      "metadata": {
        "id": "view-in-github",
        "colab_type": "text"
      },
      "source": [
        "<a href=\"https://colab.research.google.com/github/MlungisiN/Learn-Python-With-Rune/blob/master/09_Project_CSV_files.ipynb\" target=\"_parent\"><img src=\"https://colab.research.google.com/assets/colab-badge.svg\" alt=\"Open In Colab\"/></a>"
      ]
    },
    {
      "cell_type": "markdown",
      "id": "3a30ea7a",
      "metadata": {
        "id": "3a30ea7a"
      },
      "source": [
        "<a \n",
        " href=\"https://colab.research.google.com/github/LearnPythonWithRune/LearnPython/blob/main/colab/starter/09 - Project - CSV files.ipynb\"\n",
        " target=\"_parent\">\n",
        "<img \n",
        " src=\"https://colab.research.google.com/assets/colab-badge.svg\"\n",
        "alt=\"Open In Colab\"/>\n",
        "</a>"
      ]
    },
    {
      "cell_type": "markdown",
      "id": "bafa3fdb",
      "metadata": {
        "id": "bafa3fdb"
      },
      "source": [
        "# Project - CSV files - Cars\n",
        "### Goal\n",
        "- Learn how to read and process [CSV files](https://en.wikipedia.org/wiki/Comma-separated_values)\n",
        "- Process files/cars.csv and calculate the average horsepower for each car brand"
      ]
    },
    {
      "cell_type": "markdown",
      "id": "29cf56e1",
      "metadata": {
        "id": "29cf56e1"
      },
      "source": [
        "### Description\n",
        "- Process the file files/cars.csv and calculate the average horsepower for each car brand\n",
        "- Step 1: import csv\n",
        "- Step 2: Read CSV file into a list of dictionaries\n",
        "- Step 3: Use a dictionary to have a list of horsepowers for each car brand\n",
        "    - HINT: Car brand is called **Make** in dataset\n",
        "    - HINT: Use .get(car['Make'], []) + [car['Horsepower']]\n",
        "- Step 4: Use a new dictionary to keep the calculated average horsepower we will calculate in a for-loop over the dictionary from Step 3.\n",
        "    - HINT: Use another (nested) for-loop inside the for-loop to sum up the horsepowers."
      ]
    },
    {
      "cell_type": "code",
      "execution_count": 1,
      "id": "b7ad69ef",
      "metadata": {
        "id": "b7ad69ef"
      },
      "outputs": [],
      "source": [
        "import urllib.request\n",
        "import csv"
      ]
    },
    {
      "cell_type": "code",
      "execution_count": 15,
      "id": "5d6504cb",
      "metadata": {
        "id": "5d6504cb"
      },
      "outputs": [],
      "source": [
        "remote_file = \"https://raw.githubusercontent.com/MlungisiN/Learn-Python-With-Rune/master/files/cars.csv\"\n",
        "\n",
        "with urllib.request.urlopen(remote_file) as f:\n",
        "    csv_reader = csv.DictReader(f.read().decode().split('\\n'))\n",
        "    cars = list(csv_reader)"
      ]
    },
    {
      "cell_type": "code",
      "source": [
        "cars[0]"
      ],
      "metadata": {
        "colab": {
          "base_uri": "https://localhost:8080/"
        },
        "id": "MLzU-q1FnQv4",
        "outputId": "73435b40-bd8e-43e9-eeb0-2417b1fe2e21"
      },
      "id": "MLzU-q1FnQv4",
      "execution_count": 24,
      "outputs": [
        {
          "output_type": "execute_result",
          "data": {
            "text/plain": [
              "OrderedDict([('Height', '140'),\n",
              "             ('Length', '143'),\n",
              "             ('Width', '202'),\n",
              "             ('Engine Driveline', 'All-wheel drive'),\n",
              "             ('Engine Type', 'Audi 3.2L 6 cylinder 250hp 236ft-lbs'),\n",
              "             ('Engine Hybrid', 'True'),\n",
              "             ('Number of Forward Gears', '6'),\n",
              "             ('Engine Transmission', '6 Speed Automatic Select Shift'),\n",
              "             ('Fuel City mpg', '18'),\n",
              "             ('Fuel Type', 'Gasoline'),\n",
              "             ('Fuel Highway mpg', '25'),\n",
              "             ('Classification', 'Automatic transmission'),\n",
              "             ('ID', '2009 Audi A3 3.2'),\n",
              "             ('Make', 'Audi'),\n",
              "             ('Model Year', '2009 Audi A3'),\n",
              "             ('Year', '2009'),\n",
              "             ('Horsepower', '250'),\n",
              "             ('Torque', '236')])"
            ]
          },
          "metadata": {},
          "execution_count": 24
        }
      ]
    },
    {
      "cell_type": "code",
      "execution_count": 25,
      "id": "6cd92f51",
      "metadata": {
        "id": "6cd92f51"
      },
      "outputs": [],
      "source": [
        "car_makes = {}\n",
        "for car in cars:\n",
        "  car_makes[car['Make']] = car_makes.get(car['Make'], []) + [car['Horsepower']]"
      ]
    },
    {
      "cell_type": "code",
      "execution_count": 32,
      "id": "cbd23065",
      "metadata": {
        "id": "cbd23065"
      },
      "outputs": [],
      "source": [
        "car_makes_hp = {}\n",
        "\n",
        "for car_make, hp_list in car_makes.items():\n",
        "  hp_sum = 0\n",
        "  for hp in hp_list:\n",
        "    hp_sum = hp_sum + int(hp)\n",
        "  car_makes_hp[car_make] = hp_sum/len(hp_list)"
      ]
    },
    {
      "cell_type": "code",
      "execution_count": 33,
      "id": "ace9e391",
      "metadata": {
        "colab": {
          "base_uri": "https://localhost:8080/"
        },
        "id": "ace9e391",
        "outputId": "6b81316f-9621-49ac-f047-ace0fda23450"
      },
      "outputs": [
        {
          "output_type": "execute_result",
          "data": {
            "text/plain": [
              "{'Audi': 300.18390804597703,\n",
              " 'Acura': 262.8484848484849,\n",
              " 'BMW': 347.18045112781954,\n",
              " 'Chevrolet': 294.8083067092652,\n",
              " 'Nissan': 269.2142857142857,\n",
              " 'Volvo': 247.24271844660194,\n",
              " 'Bentley': 577.4444444444445,\n",
              " 'Toyota': 253.44923076923078,\n",
              " 'Honda': 188.225,\n",
              " 'Ford': 275.4112769485904,\n",
              " 'Rolls-Royce': 475.0,\n",
              " 'Volkswagen': 192.49612403100775,\n",
              " 'Maybach': 599.8461538461538,\n",
              " 'Lamborghini': 554.8,\n",
              " 'Lexus': 301.61538461538464,\n",
              " 'Hyundai': 207.3031914893617,\n",
              " 'Mercedes': 280.21875,\n",
              " 'BMW Motorrad': 233.6206896551724,\n",
              " 'Kia': 179.74074074074073,\n",
              " 'AMG': 525.9,\n",
              " 'Mazda': 187.14880952380952,\n",
              " 'Mercedes-Benz': 388.42857142857144,\n",
              " 'Mercedes-AMG': 494.8333333333333,\n",
              " 'Mitsubishi': 195.35294117647058,\n",
              " 'Cadillac': 340.98,\n",
              " 'Infiniti': 322.1294117647059,\n",
              " 'Dodge': 303.93461538461537,\n",
              " 'Lincoln': 290.5581395348837,\n",
              " 'GMC': 285.9755434782609,\n",
              " 'Porsche': 376.54901960784315,\n",
              " 'Jeep': 207.60504201680672,\n",
              " 'Subaru': 205.2095238095238,\n",
              " 'Buick': 249.88732394366198,\n",
              " 'Suzuki': 185.13725490196077,\n",
              " 'Saab': 222.54237288135593,\n",
              " 'Aston Martin': 470.0,\n",
              " 'Grand Cherokee': 320.0625,\n",
              " 'Land Rover': 373.85714285714283,\n",
              " 'Chrysler': 246.7,\n",
              " 'Ferrari': 540.0,\n",
              " 'Scion': 156.6153846153846,\n",
              " 'MINI': 160.96774193548387,\n",
              " 'Jaguar': 448.75,\n",
              " 'Chrysler Group LLC': 279.1666666666667,\n",
              " 'Lotus': 231.0,\n",
              " 'Maserati': 422.5,\n",
              " 'Mercury': 205.21428571428572}"
            ]
          },
          "metadata": {},
          "execution_count": 33
        }
      ],
      "source": [
        "car_makes_hp"
      ]
    },
    {
      "cell_type": "code",
      "execution_count": null,
      "id": "a7459158",
      "metadata": {
        "id": "a7459158"
      },
      "outputs": [],
      "source": []
    }
  ],
  "metadata": {
    "language_info": {
      "name": "python"
    },
    "colab": {
      "provenance": [],
      "collapsed_sections": [],
      "include_colab_link": true
    },
    "kernelspec": {
      "name": "python3",
      "display_name": "Python 3"
    }
  },
  "nbformat": 4,
  "nbformat_minor": 5
}