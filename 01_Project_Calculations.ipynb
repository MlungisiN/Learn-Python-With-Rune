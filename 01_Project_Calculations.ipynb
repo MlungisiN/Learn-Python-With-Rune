{
  "cells": [
    {
      "cell_type": "markdown",
      "metadata": {
        "id": "view-in-github",
        "colab_type": "text"
      },
      "source": [
        "<a href=\"https://colab.research.google.com/github/MlungisiN/Learn-Python-With-Rune/blob/master/01_Project_Calculations.ipynb\" target=\"_parent\"><img src=\"https://colab.research.google.com/assets/colab-badge.svg\" alt=\"Open In Colab\"/></a>"
      ]
    },
    {
      "cell_type": "markdown",
      "id": "ba85d323",
      "metadata": {
        "id": "ba85d323"
      },
      "source": [
        "<a \n",
        " href=\"https://colab.research.google.com/github/LearnPythonWithRune/LearnPython/blob/main/colab/starter/01 - Project - Calculations.ipynb\"\n",
        " target=\"_parent\">\n",
        "<img \n",
        " src=\"https://colab.research.google.com/assets/colab-badge.svg\"\n",
        "alt=\"Open In Colab\"/>\n",
        "</a>"
      ]
    },
    {
      "cell_type": "markdown",
      "id": "b20946cb",
      "metadata": {
        "id": "b20946cb"
      },
      "source": [
        "# Project - Calculations\n",
        "## Goal\n",
        "- Using Jupyter Notebook as a Calculator\n",
        "- Understand how cells keeps track of calcualtions"
      ]
    },
    {
      "cell_type": "markdown",
      "id": "64812667",
      "metadata": {
        "id": "64812667"
      },
      "source": [
        "### Description\n",
        "- Create formulas\n",
        "- Have some fun with basic math"
      ]
    },
    {
      "cell_type": "markdown",
      "id": "cf63eee4",
      "metadata": {
        "id": "cf63eee4"
      },
      "source": [
        "### Step 1\n",
        "- Make a convertion from **kg** to **lbs**\n",
        "- Use this formula: $lbs = kg \\times 2.2046$\n",
        "- Make the cell to use variables"
      ]
    },
    {
      "cell_type": "code",
      "execution_count": 1,
      "id": "c33dee43",
      "metadata": {
        "colab": {
          "base_uri": "https://localhost:8080/"
        },
        "id": "c33dee43",
        "outputId": "ed738e1f-500b-491b-ac84-01c34e042d37"
      },
      "outputs": [
        {
          "output_type": "stream",
          "name": "stdout",
          "text": [
            "33.069\n"
          ]
        }
      ],
      "source": [
        "kg = 15\n",
        "lbs = kg * 2.2046\n",
        "print(lbs)"
      ]
    },
    {
      "cell_type": "markdown",
      "id": "b630234b",
      "metadata": {
        "id": "b630234b"
      },
      "source": [
        "### Step 2\n",
        "- Make calculation of circumference of a circle\n",
        "- The cell should define the radius\n",
        "- Calculate the circumference by the formula: $c = 2 \\times \\pi \\times r$\n",
        "- Define $\\pi = 3.14$ (use variable name **pi**)\n",
        "- Let the cell return the circumference"
      ]
    },
    {
      "cell_type": "code",
      "execution_count": 2,
      "id": "c514fd72",
      "metadata": {
        "colab": {
          "base_uri": "https://localhost:8080/"
        },
        "id": "c514fd72",
        "outputId": "c5cee162-10a4-424b-f820-4213d71e14b0"
      },
      "outputs": [
        {
          "output_type": "stream",
          "name": "stdout",
          "text": [
            "43.96\n"
          ]
        }
      ],
      "source": [
        "pi = 3.14\n",
        "r = 7\n",
        "c = 2 * pi * r\n",
        "print(c)"
      ]
    },
    {
      "cell_type": "markdown",
      "id": "9f36b1bd",
      "metadata": {
        "id": "9f36b1bd"
      },
      "source": [
        "### Step 3\n",
        "1. Assign a variable to a any number (integer).\n",
        "2. Multiply the number by 3.\n",
        "3. Add 6 to the result from bullet 2.\n",
        "4. Divide this number by 3.\n",
        "5. Subtract the number from bullet 1 from the answer in bullet 4.\n",
        "6. The answer is 2."
      ]
    },
    {
      "cell_type": "code",
      "execution_count": 6,
      "id": "955410bf",
      "metadata": {
        "colab": {
          "base_uri": "https://localhost:8080/"
        },
        "id": "955410bf",
        "outputId": "a812bfae-6d97-456c-994f-fa620bdccd7a"
      },
      "outputs": [
        {
          "output_type": "stream",
          "name": "stdout",
          "text": [
            "2.0\n"
          ]
        }
      ],
      "source": [
        "num = 8\n",
        "num2 = num * 3\n",
        "num3 = 6 + num2\n",
        "num4 = num3 / 3\n",
        "num5 = num4 - num\n",
        "print(num5)"
      ]
    }
  ],
  "metadata": {
    "colab": {
      "provenance": [],
      "include_colab_link": true
    },
    "language_info": {
      "name": "python"
    },
    "kernelspec": {
      "name": "python3",
      "display_name": "Python 3"
    }
  },
  "nbformat": 4,
  "nbformat_minor": 5
}