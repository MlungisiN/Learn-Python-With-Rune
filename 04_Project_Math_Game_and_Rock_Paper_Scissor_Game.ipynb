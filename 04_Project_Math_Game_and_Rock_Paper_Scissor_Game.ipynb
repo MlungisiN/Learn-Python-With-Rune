{
  "cells": [
    {
      "cell_type": "markdown",
      "metadata": {
        "id": "view-in-github",
        "colab_type": "text"
      },
      "source": [
        "<a href=\"https://colab.research.google.com/github/MlungisiN/Learn-Python-With-Rune/blob/master/04_Project_Math_Game_and_Rock_Paper_Scissor_Game.ipynb\" target=\"_parent\"><img src=\"https://colab.research.google.com/assets/colab-badge.svg\" alt=\"Open In Colab\"/></a>"
      ]
    },
    {
      "cell_type": "markdown",
      "id": "67943ffd",
      "metadata": {
        "id": "67943ffd"
      },
      "source": [
        "<a \n",
        " href=\"https://colab.research.google.com/github/LearnPythonWithRune/LearnPython/blob/main/colab/starter/04 - Project - Math Game and Rock-Paper-Scissor Game.ipynb\"\n",
        " target=\"_parent\">\n",
        "<img \n",
        " src=\"https://colab.research.google.com/assets/colab-badge.svg\"\n",
        "alt=\"Open In Colab\"/>\n",
        "</a>"
      ]
    },
    {
      "cell_type": "markdown",
      "id": "525d041d",
      "metadata": {
        "id": "525d041d"
      },
      "source": [
        "# Project - Math Game and Rock-Paper-Scissor Game\n",
        "### Goal\n",
        "- Create a Math Game\n",
        "- Create a [Rock-Paper-Scissors Game](https://en.wikipedia.org/wiki/Rock_paper_scissors)"
      ]
    },
    {
      "cell_type": "markdown",
      "id": "4f64db8f",
      "metadata": {
        "id": "4f64db8f"
      },
      "source": [
        "### Math Game\n",
        "- First, import random\n",
        "- Get a random inteteger from the range 1 to 10 (both inclusive)\n",
        "- Get another random inteteger from the range 1 to 10 (both inclusive)\n",
        "- Prompt the user for what the two integers multiplied is\n",
        "- Print if correct or not. If not corrrect, print the correct answer."
      ]
    },
    {
      "cell_type": "code",
      "execution_count": 23,
      "id": "44e9296e",
      "metadata": {
        "id": "44e9296e"
      },
      "outputs": [],
      "source": [
        "import random"
      ]
    },
    {
      "cell_type": "code",
      "source": [
        "int = random.randint(1, 10)\n",
        "int2 = random.randint(1, 10)\n",
        "print(int, int2)\n",
        "my_input = float(input(\"what is the product of the multiplied values: \"))\n",
        "if my_input == (int*int2):\n",
        "  print(\"Correct\")\n",
        "else:\n",
        "  print(f\"Incorrect: the correct answer is {int*int2}\")"
      ],
      "metadata": {
        "colab": {
          "base_uri": "https://localhost:8080/"
        },
        "id": "rIf42YJNyYTx",
        "outputId": "3deab147-a377-43db-cd16-c5c8b9f38058"
      },
      "id": "rIf42YJNyYTx",
      "execution_count": 14,
      "outputs": [
        {
          "output_type": "stream",
          "name": "stdout",
          "text": [
            "2 4\n",
            "what is the product of the multiplied values: 8\n",
            "Correct\n"
          ]
        }
      ]
    },
    {
      "cell_type": "markdown",
      "id": "ee3354d1",
      "metadata": {
        "id": "ee3354d1"
      },
      "source": [
        "### Rock, Paper, Scissors Game\n",
        "\n",
        "![Rock Paper Scissor](img/RockPaperScissors.png \"Rock-Paper-Scissor\")"
      ]
    },
    {
      "cell_type": "code",
      "execution_count": 28,
      "id": "74814256",
      "metadata": {
        "colab": {
          "base_uri": "https://localhost:8080/"
        },
        "id": "74814256",
        "outputId": "29bf0a6f-b386-4143-eeb0-9803e4298a01"
      },
      "outputs": [
        {
          "output_type": "stream",
          "name": "stdout",
          "text": [
            "Please input selection 1: Rock, 2: Paper, 3: Scissors\n",
            "Please input a value between (1/2/3): 1\n",
            "Computer: 2\n",
            "Computer Wins!\n"
          ]
        }
      ],
      "source": [
        "print(\"Please input selection 1: Rock, 2: Paper, 3: Scissors\")\n",
        "user_input = input(\"Please input a value between (1/2/3): \")\n",
        "user_input = float(user_input)\n",
        "\n",
        "computer_input = random.randint(1, 3)\n",
        "print(f\"Computer: {computer_input}\")\n",
        "\n",
        "if user_input == computer_input:\n",
        "  print(\"The result is a draw\")\n",
        "elif user_input == 1: #Rock\n",
        "  if computer_input == 2: #Paper\n",
        "    print(\"Computer Wins!\")\n",
        "  else:\n",
        "    print(\"You Win!\")\n",
        "elif user_input == 2: #Paper\n",
        "  if computer_input == 1: #Rock\n",
        "    print(\"You Win!\")\n",
        "  else:\n",
        "    print(\"Computer Wins!\")\n",
        "elif user_input == 3: #Scissors\n",
        "  if computer_input == 1: #Rock\n",
        "    print(\"Computer Wins!\")\n",
        "  else:\n",
        "    print(\"You Win!\")"
      ]
    },
    {
      "cell_type": "code",
      "source": [],
      "metadata": {
        "id": "vXdX95Uo3UmU"
      },
      "id": "vXdX95Uo3UmU",
      "execution_count": null,
      "outputs": []
    }
  ],
  "metadata": {
    "colab": {
      "provenance": [],
      "collapsed_sections": [],
      "include_colab_link": true
    },
    "language_info": {
      "name": "python"
    },
    "kernelspec": {
      "name": "python3",
      "display_name": "Python 3"
    }
  },
  "nbformat": 4,
  "nbformat_minor": 5
}