{
  "cells": [
    {
      "cell_type": "markdown",
      "metadata": {
        "id": "view-in-github",
        "colab_type": "text"
      },
      "source": [
        "<a href=\"https://colab.research.google.com/github/MlungisiN/Learn-Python-With-Rune/blob/master/06_Project_Hangman_Game.ipynb\" target=\"_parent\"><img src=\"https://colab.research.google.com/assets/colab-badge.svg\" alt=\"Open In Colab\"/></a>"
      ]
    },
    {
      "cell_type": "markdown",
      "id": "ea2cd7b2",
      "metadata": {
        "id": "ea2cd7b2"
      },
      "source": [
        "<a \n",
        " href=\"https://colab.research.google.com/github/LearnPythonWithRune/LearnPython/blob/main/colab/starter/06 - Project - Hangman Game.ipynb\"\n",
        " target=\"_parent\">\n",
        "<img \n",
        " src=\"https://colab.research.google.com/assets/colab-badge.svg\"\n",
        "alt=\"Open In Colab\"/>\n",
        "</a>"
      ]
    },
    {
      "cell_type": "markdown",
      "id": "2b28aa6c",
      "metadata": {
        "id": "2b28aa6c"
      },
      "source": [
        "# Project - Hangman Game\n",
        "### Goal\n",
        "- Create a [Hangman Game](https://en.wikipedia.org/wiki/Hangman_(game))"
      ]
    },
    {
      "cell_type": "markdown",
      "id": "e50c9ce6",
      "metadata": {
        "id": "e50c9ce6"
      },
      "source": [
        "### Description\n",
        "- The game is as follows.\n",
        "- Computer has a list of words.\n",
        "- Computer chooses a random word from the list.\n",
        "- The player gets 10 wrong guesses (10 turns).\n",
        "- The game follows this loop\n",
        "    - Computer prints the word character by character replacing with underscore those not guessed yet (initial no characters has been guessed).\n",
        "    - Player guesses a character.\n",
        "    - If character is not in word, a turn is withdrawn\n",
        "    - If no turns left, computer wins.\n",
        "    - If player has guessed all characters, player wins\n",
        "- An initial word list could be: ['father', 'enterprise', 'science', 'programming', 'resistance', 'fiction', 'condition', 'reverse', 'computer', 'python']"
      ]
    },
    {
      "cell_type": "code",
      "execution_count": 1,
      "id": "6cd76d67",
      "metadata": {
        "id": "6cd76d67"
      },
      "outputs": [],
      "source": [
        "import random"
      ]
    },
    {
      "cell_type": "code",
      "execution_count": 11,
      "id": "7f6a0a82",
      "metadata": {
        "colab": {
          "base_uri": "https://localhost:8080/"
        },
        "id": "7f6a0a82",
        "outputId": "a7d77693-db1b-436c-94ec-45bfbba0dd7f"
      },
      "outputs": [
        {
          "output_type": "stream",
          "name": "stdout",
          "text": [
            "You have 10 turns left\n",
            "_ _ _ _ _ _ _ _ _ _ _ \n",
            "Guess a character: m\n",
            "You have 10 turns left\n",
            "_ _ _ _ _ _ m m _ _ _ \n",
            "Guess a character: p\n",
            "You have 10 turns left\n",
            "p _ _ _ _ _ m m _ _ _ \n",
            "Guess a character: a\n",
            "You have 10 turns left\n",
            "p _ _ _ _ a m m _ _ _ \n",
            "Guess a character: a\n",
            "You have 10 turns left\n",
            "p _ _ _ _ a m m _ _ _ \n",
            "Guess a character: e\n",
            "You have 9 turns left\n",
            "p _ _ _ _ a m m _ _ _ \n",
            "Guess a character: e\n",
            "You have 8 turns left\n",
            "p _ _ _ _ a m m _ _ _ \n",
            "Guess a character: e\n",
            "You have 7 turns left\n",
            "p _ _ _ _ a m m _ _ _ \n",
            "Guess a character: r\n",
            "You have 7 turns left\n",
            "p r _ _ r a m m _ _ _ \n",
            "Guess a character: o\n",
            "You have 7 turns left\n",
            "p r o _ r a m m _ _ _ \n",
            "Guess a character: g\n",
            "You have 7 turns left\n",
            "p r o g r a m m _ _ g \n",
            "Guess a character: i\n",
            "You have 7 turns left\n",
            "p r o g r a m m i _ g \n",
            "Guess a character: n\n",
            "You have 7 turns left\n",
            "p r o g r a m m i n g \n"
          ]
        }
      ],
      "source": [
        "word_list = ['father', 'enterprise', 'science', 'programming', 'resistance', 'fiction', 'condition', 'reverse', 'computer', 'python']\n",
        "word = random.choice(word_list)\n",
        "\n",
        "guesses = ''\n",
        "turns = 10\n",
        "\n",
        "while turns > 0:\n",
        "  print(f\"You have {turns} turns left\")\n",
        "\n",
        "  guessed_all = True\n",
        "  for item in word:\n",
        "    if item in guesses:\n",
        "      print(item, end=' ')\n",
        "    else:\n",
        "      print('_', end=' ')\n",
        "      guessed_all = False\n",
        "  print()\n",
        "\n",
        "  if not guessed_all:\n",
        "\n",
        "      guess = input(\"Guess a character: \")\n",
        "      guesses = guesses + guess\n",
        "      if guess not in word:\n",
        "        turns = turns - 1\n",
        "  else:\n",
        "      turns = 0"
      ]
    }
  ],
  "metadata": {
    "colab": {
      "provenance": [],
      "collapsed_sections": [],
      "include_colab_link": true
    },
    "language_info": {
      "name": "python"
    },
    "kernelspec": {
      "name": "python3",
      "display_name": "Python 3"
    }
  },
  "nbformat": 4,
  "nbformat_minor": 5
}