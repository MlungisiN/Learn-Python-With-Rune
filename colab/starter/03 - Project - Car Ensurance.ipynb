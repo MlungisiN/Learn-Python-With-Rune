{
  "cells": [
    {
      "cell_type": "markdown",
      "metadata": {
        "id": "view-in-github",
        "colab_type": "text"
      },
      "source": [
        "<a href=\"https://colab.research.google.com/github/MlungisiN/Learn-Python-With-Rune/blob/master/colab/starter/03%20-%20Project%20-%20Car%20Ensurance.ipynb\" target=\"_parent\"><img src=\"https://colab.research.google.com/assets/colab-badge.svg\" alt=\"Open In Colab\"/></a>"
      ]
    },
    {
      "cell_type": "markdown",
      "id": "1b536772",
      "metadata": {
        "id": "1b536772"
      },
      "source": [
        "<a \n",
        " href=\"https://colab.research.google.com/github/LearnPythonWithRune/LearnPython/blob/main/colab/starter/03 - Project - Car Ensurance.ipynb\"\n",
        " target=\"_parent\">\n",
        "<img \n",
        " src=\"https://colab.research.google.com/assets/colab-badge.svg\"\n",
        "alt=\"Open In Colab\"/>\n",
        "</a>"
      ]
    },
    {
      "cell_type": "markdown",
      "id": "967c045e",
      "metadata": {
        "id": "967c045e"
      },
      "source": [
        "# Project - Car Ensurance\n",
        "### Goal\n",
        "- Car ensurance calculation based on the following decision tree"
      ]
    },
    {
      "cell_type": "markdown",
      "id": "e346a214",
      "metadata": {
        "id": "e346a214"
      },
      "source": [
        "![alt text](img/DecisionTree.png \"Title\")"
      ]
    },
    {
      "cell_type": "markdown",
      "id": "055cfb9a",
      "metadata": {
        "id": "055cfb9a"
      },
      "source": [
        "### Description\n",
        "- This is a fictional car insurance company called Car Crash\n",
        "- They calculate the yearly ensurance price based on the current market price of the car\n",
        "- Given the market price: market_price\n",
        "- Then the yearly ensurance price is 9% of the market_price if it is a male above 26 years old.\n",
        "- As we see in the decision tree, we have 4 possible price calculations.\n",
        "- Create a program, which takes input and based on that calculated the correct price for all 4 cases"
      ]
    },
    {
      "cell_type": "code",
      "execution_count": 5,
      "id": "cf569ae7",
      "metadata": {
        "id": "cf569ae7",
        "outputId": "22ccf4d5-256e-486b-ccd1-5f73e9d3385e",
        "colab": {
          "base_uri": "https://localhost:8080/"
        }
      },
      "outputs": [
        {
          "output_type": "stream",
          "name": "stdout",
          "text": [
            "What is your gender (M/F): f\n",
            "Female\n",
            "What is your car type (sports/non-sports) spor\n",
            "Non-sports Car\n",
            "What is the market price of your car? 15000\n",
            "Your insurance offer is: 1500.0\n"
          ]
        }
      ],
      "source": [
        "gender = input(\"What is your gender (M/F): \")\n",
        "gender = gender.upper()\n",
        "if gender == \"M\":\n",
        "  print(\"Male\")\n",
        "  age = input(\"What is your age? \")\n",
        "  age = int(age)\n",
        "  if age <= 26:\n",
        "    print(\"Less than or equal to 26\")\n",
        "    percentage = 23\n",
        "  else:\n",
        "      print(\"More than 26\")\n",
        "      percentage = 9\n",
        "elif gender == \"F\":\n",
        "  print(\"Female\")\n",
        "  car_type = input(\"What is your car type (sports/non-sports) \")\n",
        "  car_type = car_type.upper\n",
        "  if car_type == \"SPORTS\":\n",
        "    print(\"Sports car\")\n",
        "    percentage = 21\n",
        "  else:\n",
        "    print(\"Non-sports Car\")\n",
        "    percentage = 10\n",
        "else:\n",
        "  print(\"Incorrect Input!\")\n",
        "\n",
        "market_price = input(\"What is the market price of your car? \")\n",
        "market_price =int(market_price)\n",
        "insurance_offer = market_price*percentage/100\n",
        "print(f\"Your insurance offer is: {insurance_offer}\")"
      ]
    }
  ],
  "metadata": {
    "colab": {
      "provenance": [],
      "include_colab_link": true
    },
    "language_info": {
      "name": "python"
    },
    "kernelspec": {
      "name": "python3",
      "display_name": "Python 3"
    }
  },
  "nbformat": 4,
  "nbformat_minor": 5
}