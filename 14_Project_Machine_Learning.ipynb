{
  "cells": [
    {
      "cell_type": "markdown",
      "metadata": {
        "id": "view-in-github",
        "colab_type": "text"
      },
      "source": [
        "<a href=\"https://colab.research.google.com/github/MlungisiN/Learn-Python-With-Rune/blob/master/14_Project_Machine_Learning.ipynb\" target=\"_parent\"><img src=\"https://colab.research.google.com/assets/colab-badge.svg\" alt=\"Open In Colab\"/></a>"
      ]
    },
    {
      "cell_type": "markdown",
      "id": "204a308c",
      "metadata": {
        "id": "204a308c"
      },
      "source": [
        "<a \n",
        " href=\"https://colab.research.google.com/github/LearnPythonWithRune/LearnPython/blob/main/colab/starter/14 - Project - Machine Learning.ipynb\"\n",
        " target=\"_parent\">\n",
        "<img \n",
        " src=\"https://colab.research.google.com/assets/colab-badge.svg\"\n",
        "alt=\"Open In Colab\"/>\n",
        "</a>"
      ]
    },
    {
      "cell_type": "markdown",
      "id": "680d7123",
      "metadata": {
        "id": "680d7123"
      },
      "source": [
        "# Project - Machine Learning\n",
        "### Goal\n",
        "- Implement a Linear Regression Model."
      ]
    },
    {
      "cell_type": "markdown",
      "id": "33f2fbbf",
      "metadata": {
        "id": "33f2fbbf"
      },
      "source": [
        "### Description\n",
        "- import numpy as np and import csv\n",
        "- from sklearn.linear_model import LinearRegression\n",
        "- import matplotlib.pyplot as plt with %matplotlib inline\n",
        "- Read the CSV file files/cars.csv as a list of dictionaries\n",
        "- Use list comprehension to get Horsepower and Torque from the CSV data.\n",
        "- Create the lists as NumPy arrays and reshape them.\n",
        "- Create a LinearRegression() model.\n",
        "- Call **fit(.)** with the two reshaped lists.\n",
        "- Call **predict(.)** with the reshaped list of Horsepower.\n",
        "- Create a scatter plot with all the points (Horsepower vs Torque)\n",
        "- Create a line (red) with the prediction result."
      ]
    },
    {
      "cell_type": "code",
      "execution_count": 8,
      "id": "106ea067",
      "metadata": {
        "id": "106ea067"
      },
      "outputs": [],
      "source": [
        "import numpy as np\n",
        "import urllib.request\n",
        "import urllib\n",
        "import csv\n",
        "from sklearn.linear_model import LinearRegression\n",
        "import matplotlib.pyplot as plt\n",
        "%matplotlib inline "
      ]
    },
    {
      "cell_type": "code",
      "execution_count": 9,
      "id": "1060847d",
      "metadata": {
        "colab": {
          "base_uri": "https://localhost:8080/"
        },
        "id": "1060847d",
        "outputId": "bbc9cef0-76d2-4936-83ac-12e839869d39"
      },
      "outputs": [
        {
          "output_type": "execute_result",
          "data": {
            "text/plain": [
              "OrderedDict([('Height', '140'),\n",
              "             ('Length', '143'),\n",
              "             ('Width', '202'),\n",
              "             ('Engine Driveline', 'All-wheel drive'),\n",
              "             ('Engine Type', 'Audi 3.2L 6 cylinder 250hp 236ft-lbs'),\n",
              "             ('Engine Hybrid', 'True'),\n",
              "             ('Number of Forward Gears', '6'),\n",
              "             ('Engine Transmission', '6 Speed Automatic Select Shift'),\n",
              "             ('Fuel City mpg', '18'),\n",
              "             ('Fuel Type', 'Gasoline'),\n",
              "             ('Fuel Highway mpg', '25'),\n",
              "             ('Classification', 'Automatic transmission'),\n",
              "             ('ID', '2009 Audi A3 3.2'),\n",
              "             ('Make', 'Audi'),\n",
              "             ('Model Year', '2009 Audi A3'),\n",
              "             ('Year', '2009'),\n",
              "             ('Horsepower', '250'),\n",
              "             ('Torque', '236')])"
            ]
          },
          "metadata": {},
          "execution_count": 9
        }
      ],
      "source": [
        "remote_file = \"https://raw.githubusercontent.com/MlungisiN/Learn-Python-With-Rune/master/files/cars.csv\"\n",
        "\n",
        "with urllib.request.urlopen(remote_file) as f:\n",
        "    csv_reader = csv.DictReader(f.read().decode().split('\\n'))\n",
        "    cars = list(csv_reader)\n",
        "cars[0]"
      ]
    },
    {
      "cell_type": "code",
      "execution_count": 7,
      "id": "fcbcaba6",
      "metadata": {
        "id": "fcbcaba6"
      },
      "outputs": [],
      "source": [
        "horsepower = [int(car['Horsepower']) for car in cars]\n",
        "torque = [int(car['Torque']) for car in cars]"
      ]
    },
    {
      "cell_type": "code",
      "execution_count": 10,
      "id": "675e32b6",
      "metadata": {
        "id": "675e32b6"
      },
      "outputs": [],
      "source": [
        "X = np.array(horsepower).reshape((-1, 1))\n",
        "Y = np.array(torque).reshape((-1, 1))"
      ]
    },
    {
      "cell_type": "code",
      "execution_count": 11,
      "id": "3cee9927",
      "metadata": {
        "id": "3cee9927"
      },
      "outputs": [],
      "source": [
        "lin_regressor = LinearRegression()\n",
        "lin_regressor.fit(X, Y)\n",
        "Y_pred = lin_regressor.predict(X)"
      ]
    },
    {
      "cell_type": "code",
      "source": [
        "alpha = str(round(lin_regressor.intercept_[0], 5))\n",
        "beta = str(round(lin_regressor.coef_[0][0]))"
      ],
      "metadata": {
        "id": "b_MOyxUkQxEZ"
      },
      "id": "b_MOyxUkQxEZ",
      "execution_count": 15,
      "outputs": []
    },
    {
      "cell_type": "code",
      "execution_count": 16,
      "id": "00b6eacc",
      "metadata": {
        "colab": {
          "base_uri": "https://localhost:8080/",
          "height": 300
        },
        "id": "00b6eacc",
        "outputId": "fc87b863-bd29-4627-c9d8-76e0ce1498ac"
      },
      "outputs": [
        {
          "output_type": "execute_result",
          "data": {
            "text/plain": [
              "[<matplotlib.lines.Line2D at 0x7fa0fa9b6950>]"
            ]
          },
          "metadata": {},
          "execution_count": 16
        },
        {
          "output_type": "display_data",
          "data": {
            "text/plain": [
              "<Figure size 432x288 with 1 Axes>"
            ],
            "image/png": "[encoded data removed]"
          },
          "metadata": {
            "needs_background": "light"
          }
        }
      ],
      "source": [
        "fig, ax = plt.subplots()\n",
        "\n",
        "ax.set_title(f\"Alpha: {alpha}, Beta: {beta}\")\n",
        "ax.scatter(X, Y)\n",
        "ax.plot(X, Y_pred, c='r')"
      ]
    },
    {
      "cell_type": "code",
      "execution_count": null,
      "id": "a71ac80b",
      "metadata": {
        "id": "a71ac80b"
      },
      "outputs": [],
      "source": []
    }
  ],
  "metadata": {
    "language_info": {
      "name": "python"
    },
    "colab": {
      "provenance": [],
      "collapsed_sections": [],
      "include_colab_link": true
    },
    "kernelspec": {
      "name": "python3",
      "display_name": "Python 3"
    },
    "gpuClass": "standard"
  },
  "nbformat": 4,
  "nbformat_minor": 5
}