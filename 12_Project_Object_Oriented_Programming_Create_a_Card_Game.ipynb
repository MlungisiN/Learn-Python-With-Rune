{
  "cells": [
    {
      "cell_type": "markdown",
      "metadata": {
        "id": "view-in-github",
        "colab_type": "text"
      },
      "source": [
        "<a href=\"https://colab.research.google.com/github/MlungisiN/Learn-Python-With-Rune/blob/master/12_Project_Object_Oriented_Programming_Create_a_Card_Game.ipynb\" target=\"_parent\"><img src=\"https://colab.research.google.com/assets/colab-badge.svg\" alt=\"Open In Colab\"/></a>"
      ]
    },
    {
      "cell_type": "markdown",
      "id": "985fa2d6",
      "metadata": {
        "id": "985fa2d6"
      },
      "source": [
        "<a \n",
        " href=\"https://colab.research.google.com/github/LearnPythonWithRune/LearnPython/blob/main/colab/starter/12 - Project - Object Oriented Programming - Create a Card Game.ipynb\"\n",
        " target=\"_parent\">\n",
        "<img \n",
        " src=\"https://colab.research.google.com/assets/colab-badge.svg\"\n",
        "alt=\"Open In Colab\"/>\n",
        "</a>"
      ]
    },
    {
      "cell_type": "markdown",
      "id": "1c945317",
      "metadata": {
        "id": "1c945317"
      },
      "source": [
        "# Project - Object-Oriented Programming - Create a Card Game\n",
        "### Goal\n",
        "- Learn basic Object-Oriented Programming\n",
        "- Create a Simple Card Game"
      ]
    },
    {
      "cell_type": "markdown",
      "id": "6fb5e27f",
      "metadata": {
        "id": "6fb5e27f"
      },
      "source": [
        "### Classes\n",
        "![Class diagram](img/ClassDiagram.png)"
      ]
    },
    {
      "cell_type": "markdown",
      "id": "f0655485",
      "metadata": {
        "id": "f0655485"
      },
      "source": [
        "### Card Game\n",
        "- Create a Deck of cards.\n",
        "- Create 4 players (P1, P2, P3, P4)\n",
        "- Divided all cards to 4 players.\n",
        "- Assume you are P1, print the hand of P1.\n",
        "- The game has 13 rounds:\n",
        "    - Each player plays 1 card.\n",
        "    - The player with highest card wins.\n",
        "    - Update the score for the winning hand.\n",
        "    - Print cards played in round and the winner (with winning card).\n",
        "- After the 13 rounds - print score for all players (P1, P2, P3, P4)."
      ]
    },
    {
      "cell_type": "code",
      "execution_count": 15,
      "id": "3b82b88f",
      "metadata": {
        "id": "3b82b88f"
      },
      "outputs": [],
      "source": [
        "import random"
      ]
    },
    {
      "cell_type": "code",
      "execution_count": 16,
      "id": "de88cff2",
      "metadata": {
        "id": "de88cff2"
      },
      "outputs": [],
      "source": [
        "class Card:\n",
        "    suits = ['\\u2666', '\\u2665', '\\u2663', '\\u2660']\n",
        "    ranks = [\"2\", \"3\", \"4\", \"5\", \"6\", \"7\", \"8\", \"9\", \"10\", \"J\", \"Q\", \"K\", \"A\"]\n",
        "    \n",
        "    def __init__(self, suit, rank):\n",
        "        self.suit = suit\n",
        "        self.rank = rank\n",
        "        \n",
        "    def __str__(self):\n",
        "        return f\"{Card.ranks[self.rank]}{Card.suits[self.suit]}\"\n",
        "    \n",
        "    def __lt__(self, other):\n",
        "        if self.rank == other.rank:\n",
        "            return self.suit < other.suit\n",
        "        else:\n",
        "            return self.rank < other.rank"
      ]
    },
    {
      "cell_type": "code",
      "execution_count": 17,
      "id": "317b14e4",
      "metadata": {
        "id": "317b14e4"
      },
      "outputs": [],
      "source": [
        "class Deck:\n",
        "    def __init__(self):\n",
        "        self.deck = []\n",
        "        for suit in range(4):\n",
        "            for rank in range(13):\n",
        "                self.deck.append(Card(suit, rank))\n",
        "        self.shuffle()\n",
        "        \n",
        "    def __len__(self):\n",
        "        return len(self.deck)\n",
        "    \n",
        "    def add_card(self, card):\n",
        "        self.deck.append(card)\n",
        "        \n",
        "    def pop_card(self):\n",
        "        return self.deck.pop()\n",
        "    \n",
        "    def shuffle(self):\n",
        "        random.shuffle(self.deck)"
      ]
    },
    {
      "cell_type": "code",
      "source": [
        "class Hand(Deck):\n",
        "    def __init__(self, label):\n",
        "        self.deck = []\n",
        "        self.label = label\n",
        "        self.win_count = 0\n",
        "        \n",
        "    def __str__(self):\n",
        "        return self.label + ': ' + ' '.join([str(card) for card in self.deck])\n",
        "    \n",
        "    def get_label(self):\n",
        "        return self.label\n",
        "    \n",
        "    def get_win_count(self):\n",
        "        return self.win_count\n",
        "    \n",
        "    def round_winner(self):\n",
        "        self.win_count = self.win_count + 1"
      ],
      "metadata": {
        "id": "BaOkj7ZHYUWQ"
      },
      "id": "BaOkj7ZHYUWQ",
      "execution_count": 18,
      "outputs": []
    },
    {
      "cell_type": "code",
      "source": [
        "deck = Deck()\n",
        "\n",
        "hands = []\n",
        "for item in range(1, 5):\n",
        "  hands.append(Hand(f\"P{item}\"))\n",
        "\n",
        "while len(deck) > 0:\n",
        "  for hand in hands:\n",
        "    hand.add_card(deck.pop_card())\n",
        "\n",
        "print(hands[0])\n",
        "\n",
        "for item in range(13):\n",
        "  input()\n",
        "  cards_played = []\n",
        "  for hand in hands:\n",
        "    cards_played.append(hand.pop_card())\n",
        "    \n",
        "  winner_card = max(cards_played)\n",
        "  winner_hand = hands[cards_played.index(winner_card)]\n",
        "  winner_hand.round_winner()\n",
        "\n",
        "  print(f\"Round{item}: \" + ' '.join([str(card) for card in cards_played]) + f'Winner: {winner_hand.get_label()} {str(winner_card)}')\n",
        "\n",
        "for hand in hands:\n",
        "  print(f\"Score for {hand.get_label()}: {hand.get_win_count()} \")"
      ],
      "metadata": {
        "colab": {
          "base_uri": "https://localhost:8080/"
        },
        "id": "wtkUb-JfYYVK",
        "outputId": "e4455483-f549-4e9a-f23d-96396285b31d"
      },
      "id": "wtkUb-JfYYVK",
      "execution_count": 22,
      "outputs": [
        {
          "output_type": "stream",
          "name": "stdout",
          "text": [
            "P1: J♥ 6♠ J♠ 2♥ 7♥ 3♥ 4♦ 9♠ 7♠ 6♦ 5♠ 8♥ 2♠\n",
            "\n",
            "Round0: 2♠ 10♠ 3♦ 10♥Winner: P2 10♠\n",
            "\n",
            "Round1: 8♥ 8♣ 5♥ Q♥Winner: P4 Q♥\n",
            "\n",
            "Round2: 5♠ J♦ 9♦ A♥Winner: P4 A♥\n",
            "\n",
            "Round3: 6♦ 10♣ 5♦ K♣Winner: P4 K♣\n",
            "\n",
            "Round4: 7♠ 7♣ 6♥ Q♦Winner: P4 Q♦\n",
            "\n",
            "Round5: 9♠ 9♣ 3♠ A♠Winner: P4 A♠\n",
            "\n",
            "Round6: 4♦ Q♠ 9♥ 4♠Winner: P2 Q♠\n",
            "\n",
            "Round7: 3♥ 4♥ 4♣ Q♣Winner: P4 Q♣\n",
            "\n",
            "Round8: 7♥ 2♦ A♦ 2♣Winner: P3 A♦\n",
            "\n",
            "Round9: 2♥ 7♦ K♠ K♦Winner: P3 K♠\n",
            "\n",
            "Round10: J♠ 8♠ 5♣ A♣Winner: P4 A♣\n",
            "\n",
            "Round11: 6♠ 10♦ J♣ 8♦Winner: P3 J♣\n",
            "\n",
            "Round12: J♥ K♥ 6♣ 3♣Winner: P2 K♥\n",
            "Score for P1: 0 \n",
            "Score for P2: 3 \n",
            "Score for P3: 3 \n",
            "Score for P4: 7 \n"
          ]
        }
      ]
    }
  ],
  "metadata": {
    "colab": {
      "provenance": [],
      "collapsed_sections": [],
      "include_colab_link": true
    },
    "language_info": {
      "name": "python"
    },
    "kernelspec": {
      "name": "python3",
      "display_name": "Python 3"
    }
  },
  "nbformat": 4,
  "nbformat_minor": 5
}