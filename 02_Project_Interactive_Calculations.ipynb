{
  "cells": [
    {
      "cell_type": "markdown",
      "metadata": {
        "id": "view-in-github",
        "colab_type": "text"
      },
      "source": [
        "<a href=\"https://colab.research.google.com/github/MlungisiN/Learn-Python-With-Rune/blob/master/02_Project_Interactive_Calculations.ipynb\" target=\"_parent\"><img src=\"https://colab.research.google.com/assets/colab-badge.svg\" alt=\"Open In Colab\"/></a>"
      ]
    },
    {
      "cell_type": "markdown",
      "id": "91bdce1c",
      "metadata": {
        "id": "91bdce1c"
      },
      "source": [
        "<a \n",
        " href=\"https://colab.research.google.com/github/LearnPythonWithRune/LearnPython/blob/main/colab/starter/02 - Project - Interactive Calculations.ipynb\"\n",
        " target=\"_parent\">\n",
        "<img \n",
        " src=\"https://colab.research.google.com/assets/colab-badge.svg\"\n",
        "alt=\"Open In Colab\"/>\n",
        "</a>"
      ]
    },
    {
      "cell_type": "markdown",
      "id": "6df6fc32",
      "metadata": {
        "id": "6df6fc32"
      },
      "source": [
        "# Project - Interactive Calculations\n",
        "### Goal\n",
        "- Multiply two numbers\n",
        "- Days since you were born\n",
        "- Tip calculator"
      ]
    },
    {
      "cell_type": "markdown",
      "id": "12118dd5",
      "metadata": {
        "id": "12118dd5"
      },
      "source": [
        "### Step 1\n",
        "- Input a value from the user and keep it in variable **a**.\n",
        "- Input another value from the user and keep it in variable **b**.\n",
        "- Print the product of the two values (**a*b**)."
      ]
    },
    {
      "cell_type": "code",
      "execution_count": 15,
      "id": "28a97076",
      "metadata": {
        "colab": {
          "base_uri": "https://localhost:8080/"
        },
        "id": "28a97076",
        "outputId": "f82182bc-f3e9-405b-e66b-8fc9b5e75686"
      },
      "outputs": [
        {
          "output_type": "stream",
          "name": "stdout",
          "text": [
            "Input a value: 2\n",
            "Input another value:6\n",
            "The product of both inputs is 12\n"
          ]
        }
      ],
      "source": [
        "a = input(\"Input a value: \")\n",
        "b = input(\"Input another value:\")\n",
        "a = int(a)\n",
        "b = int(b)\n",
        "print(f\"The product of both inputs is {a*b}\")"
      ]
    },
    {
      "cell_type": "markdown",
      "id": "33fab934",
      "metadata": {
        "id": "33fab934"
      },
      "source": [
        "### Step 2\n",
        "- Input how many years the user it.\n",
        "- Convert the years to an integer.\n",
        "- Calculate how many days, hours, minutes, and seconds since the user is born."
      ]
    },
    {
      "cell_type": "code",
      "source": [
        "years = input(\"How old are you? \")\n",
        "years = int(years)\n",
        "days = years * 365\n",
        "hours = days * 24\n",
        "minutes = hours * 60\n",
        "seconds = minutes * 60\n",
        "print(f\"You are {years} years, {days} days, {hours} hours, {minutes} minutes and {seconds} seconds old\")"
      ],
      "metadata": {
        "colab": {
          "base_uri": "https://localhost:8080/"
        },
        "id": "jU3qpvMv4JQK",
        "outputId": "7a295821-1d97-44cc-e8ab-fb5fe740b337"
      },
      "id": "jU3qpvMv4JQK",
      "execution_count": 5,
      "outputs": [
        {
          "output_type": "stream",
          "name": "stdout",
          "text": [
            "How old are you? 33\n",
            "You are 33 years, 12045 days, 289080 hours, 17344800 minutes and 1040688000 seconds old\n"
          ]
        }
      ]
    },
    {
      "cell_type": "markdown",
      "id": "1d9518c9",
      "metadata": {
        "id": "1d9518c9"
      },
      "source": [
        "### Step 3\n",
        "- Here we will make a tip calculator.\n",
        "- Input the price.\n",
        "- Convert the price to an integer.\n",
        "- Input the percentage the user wants to tip.\n",
        "- Convert the percentage to an integer.\n",
        "- Calculate the tip by the following formula: **tip = price $\\times$ percentage_tip / 100**.\n",
        "- Round the tip to two digits.\n",
        "- Print the the tip.\n",
        "- *BONUS:* Adjust the code to take float input of percentage tip"
      ]
    },
    {
      "cell_type": "code",
      "execution_count": 16,
      "id": "d3b2df0d",
      "metadata": {
        "colab": {
          "base_uri": "https://localhost:8080/"
        },
        "id": "d3b2df0d",
        "outputId": "2474b996-8d33-4618-83e9-d5cc77410823"
      },
      "outputs": [
        {
          "output_type": "stream",
          "name": "stdout",
          "text": [
            "Input price:45\n",
            "What would you like to tip (%)? 15.3\n",
            "your tip is: 6.88\n"
          ]
        }
      ],
      "source": [
        "price = input(\"Input price:\")\n",
        "price = int(price)\n",
        "percentage_tip = input(\"What would you like to tip (%)? \")\n",
        "percentage_tip = float(percentage_tip)\n",
        "tip = price * percentage_tip/100\n",
        "print(\"your tip is:\", round(tip, 2))"
      ]
    }
  ],
  "metadata": {
    "colab": {
      "provenance": [],
      "collapsed_sections": [],
      "include_colab_link": true
    },
    "language_info": {
      "name": "python"
    },
    "kernelspec": {
      "name": "python3",
      "display_name": "Python 3"
    }
  },
  "nbformat": 4,
  "nbformat_minor": 5
}