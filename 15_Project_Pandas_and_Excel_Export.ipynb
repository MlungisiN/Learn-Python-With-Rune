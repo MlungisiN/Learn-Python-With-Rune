{
  "cells": [
    {
      "cell_type": "markdown",
      "metadata": {
        "id": "view-in-github",
        "colab_type": "text"
      },
      "source": [
        "<a href=\"https://colab.research.google.com/github/MlungisiN/Learn-Python-With-Rune/blob/master/15_Project_Pandas_and_Excel_Export.ipynb\" target=\"_parent\"><img src=\"https://colab.research.google.com/assets/colab-badge.svg\" alt=\"Open In Colab\"/></a>"
      ]
    },
    {
      "cell_type": "markdown",
      "id": "a343bbc2",
      "metadata": {
        "id": "a343bbc2"
      },
      "source": [
        "<a \n",
        " href=\"https://colab.research.google.com/github/LearnPythonWithRune/LearnPython/blob/main/colab/starter/15 - Project - Pandas and Excel Export.ipynb\"\n",
        " target=\"_parent\">\n",
        "<img \n",
        " src=\"https://colab.research.google.com/assets/colab-badge.svg\"\n",
        "alt=\"Open In Colab\"/>\n",
        "</a>"
      ]
    },
    {
      "cell_type": "markdown",
      "id": "9ac725ca",
      "metadata": {
        "id": "9ac725ca"
      },
      "source": [
        "# Project - Pandas and Excel Export\n",
        "### Goal\n",
        "- Learn how to use Pandas DataFrames\n",
        "- Export to Excel spreadsheets"
      ]
    },
    {
      "cell_type": "markdown",
      "id": "e48d8d2d",
      "metadata": {
        "id": "e48d8d2d"
      },
      "source": [
        "### Description\n",
        "- import pandas as pd\n",
        "- Read the CSV file files/SalesData.csv with pandas\n",
        "    - Remember to set index_col to Date, delimiter to ';' and parse_dates to True\n",
        "- Group the data by **Sales rep** and sum it\n",
        "- Group the data by month\n",
        "    - HINT: Use pd.Grouper(freq='M')\n",
        "    - HINT: Change the index naming to use month names\n",
        "- Export the data to Excel\n",
        "    - Create an ExcelWriter from Pandas\n",
        "    - Write a sheet with **Sales rep** data create above (remember to set sheet_name)\n",
        "    - Write a sheet with **Monthly** data created above (remember to set sheet_name)\n",
        "- Bonus:\n",
        "    - Create charts column charts for each sheet.\n",
        "    - Use the simple way we created it."
      ]
    },
    {
      "cell_type": "code",
      "execution_count": 18,
      "id": "626deb9f",
      "metadata": {
        "id": "626deb9f"
      },
      "outputs": [],
      "source": [
        "import pandas as pd"
      ]
    },
    {
      "cell_type": "code",
      "execution_count": 2,
      "id": "99790af7",
      "metadata": {
        "id": "99790af7"
      },
      "outputs": [],
      "source": [
        "data = pd.read_csv('https://raw.githubusercontent.com/MlungisiN/Learn-Python-With-Rune/master/files/SalesData.csv', delimiter=';', parse_dates=True, index_col='Date')"
      ]
    },
    {
      "cell_type": "code",
      "execution_count": 11,
      "id": "50f5e71a",
      "metadata": {
        "colab": {
          "base_uri": "https://localhost:8080/",
          "height": 237
        },
        "id": "50f5e71a",
        "outputId": "864bda35-3dcf-4486-a6de-001aab83cb2f"
      },
      "outputs": [
        {
          "output_type": "execute_result",
          "data": {
            "text/plain": [
              "            Sales rep        Item  Price  Quantity  Sale\n",
              "Date                                                    \n",
              "2020-05-31        Mia     Markers      4         1     4\n",
              "2020-02-01        Mia  Desk chair    199         2   398\n",
              "2020-09-21     Oliver       Table   1099         2  2198\n",
              "2020-07-15  Charlotte    Desk pad      9         2    18\n",
              "2020-05-27       Emma        Book     12         1    12"
            ],
            "text/html": [
              "\n",
              "  <div id=\"df-293d0658-baca-4927-a702-6d576c21bb7a\">\n",
              "    <div class=\"colab-df-container\">\n",
              "      <div>\n",
              "<style scoped>\n",
              "    .dataframe tbody tr th:only-of-type {\n",
              "        vertical-align: middle;\n",
              "    }\n",
              "\n",
              "    .dataframe tbody tr th {\n",
              "        vertical-align: top;\n",
              "    }\n",
              "\n",
              "    .dataframe thead th {\n",
              "        text-align: right;\n",
              "    }\n",
              "</style>\n",
              "<table border=\"1\" class=\"dataframe\">\n",
              "  <thead>\n",
              "    <tr style=\"text-align: right;\">\n",
              "      <th></th>\n",
              "      <th>Sales rep</th>\n",
              "      <th>Item</th>\n",
              "      <th>Price</th>\n",
              "      <th>Quantity</th>\n",
              "      <th>Sale</th>\n",
              "    </tr>\n",
              "    <tr>\n",
              "      <th>Date</th>\n",
              "      <th></th>\n",
              "      <th></th>\n",
              "      <th></th>\n",
              "      <th></th>\n",
              "      <th></th>\n",
              "    </tr>\n",
              "  </thead>\n",
              "  <tbody>\n",
              "    <tr>\n",
              "      <th>2020-05-31</th>\n",
              "      <td>Mia</td>\n",
              "      <td>Markers</td>\n",
              "      <td>4</td>\n",
              "      <td>1</td>\n",
              "      <td>4</td>\n",
              "    </tr>\n",
              "    <tr>\n",
              "      <th>2020-02-01</th>\n",
              "      <td>Mia</td>\n",
              "      <td>Desk chair</td>\n",
              "      <td>199</td>\n",
              "      <td>2</td>\n",
              "      <td>398</td>\n",
              "    </tr>\n",
              "    <tr>\n",
              "      <th>2020-09-21</th>\n",
              "      <td>Oliver</td>\n",
              "      <td>Table</td>\n",
              "      <td>1099</td>\n",
              "      <td>2</td>\n",
              "      <td>2198</td>\n",
              "    </tr>\n",
              "    <tr>\n",
              "      <th>2020-07-15</th>\n",
              "      <td>Charlotte</td>\n",
              "      <td>Desk pad</td>\n",
              "      <td>9</td>\n",
              "      <td>2</td>\n",
              "      <td>18</td>\n",
              "    </tr>\n",
              "    <tr>\n",
              "      <th>2020-05-27</th>\n",
              "      <td>Emma</td>\n",
              "      <td>Book</td>\n",
              "      <td>12</td>\n",
              "      <td>1</td>\n",
              "      <td>12</td>\n",
              "    </tr>\n",
              "  </tbody>\n",
              "</table>\n",
              "</div>\n",
              "      <button class=\"colab-df-convert\" onclick=\"convertToInteractive('df-293d0658-baca-4927-a702-6d576c21bb7a')\"\n",
              "              title=\"Convert this dataframe to an interactive table.\"\n",
              "              style=\"display:none;\">\n",
              "        \n",
              "  <svg xmlns=\"http://www.w3.org/2000/svg\" height=\"24px\"viewBox=\"0 0 24 24\"\n",
              "       width=\"24px\">\n",
              "    <path d=\"M0 0h24v24H0V0z\" fill=\"none\"/>\n",
              "    <path d=\"M18.56 5.44l.94 2.06.94-2.06 2.06-.94-2.06-.94-.94-2.06-.94 2.06-2.06.94zm-11 1L8.5 8.5l.94-2.06 2.06-.94-2.06-.94L8.5 2.5l-.94 2.06-2.06.94zm10 10l.94 2.06.94-2.06 2.06-.94-2.06-.94-.94-2.06-.94 2.06-2.06.94z\"/><path d=\"M17.41 7.96l-1.37-1.37c-.4-.4-.92-.59-1.43-.59-.52 0-1.04.2-1.43.59L10.3 9.45l-7.72 7.72c-.78.78-.78 2.05 0 2.83L4 21.41c.39.39.9.59 1.41.59.51 0 1.02-.2 1.41-.59l7.78-7.78 2.81-2.81c.8-.78.8-2.07 0-2.86zM5.41 20L4 18.59l7.72-7.72 1.47 1.35L5.41 20z\"/>\n",
              "  </svg>\n",
              "      </button>\n",
              "      \n",
              "  <style>\n",
              "    .colab-df-container {\n",
              "      display:flex;\n",
              "      flex-wrap:wrap;\n",
              "      gap: 12px;\n",
              "    }\n",
              "\n",
              "    .colab-df-convert {\n",
              "      background-color: #E8F0FE;\n",
              "      border: none;\n",
              "      border-radius: 50%;\n",
              "      cursor: pointer;\n",
              "      display: none;\n",
              "      fill: #1967D2;\n",
              "      height: 32px;\n",
              "      padding: 0 0 0 0;\n",
              "      width: 32px;\n",
              "    }\n",
              "\n",
              "    .colab-df-convert:hover {\n",
              "      background-color: #E2EBFA;\n",
              "      box-shadow: 0px 1px 2px rgba(60, 64, 67, 0.3), 0px 1px 3px 1px rgba(60, 64, 67, 0.15);\n",
              "      fill: #174EA6;\n",
              "    }\n",
              "\n",
              "    [theme=dark] .colab-df-convert {\n",
              "      background-color: #3B4455;\n",
              "      fill: #D2E3FC;\n",
              "    }\n",
              "\n",
              "    [theme=dark] .colab-df-convert:hover {\n",
              "      background-color: #434B5C;\n",
              "      box-shadow: 0px 1px 3px 1px rgba(0, 0, 0, 0.15);\n",
              "      filter: drop-shadow(0px 1px 2px rgba(0, 0, 0, 0.3));\n",
              "      fill: #FFFFFF;\n",
              "    }\n",
              "  </style>\n",
              "\n",
              "      <script>\n",
              "        const buttonEl =\n",
              "          document.querySelector('#df-293d0658-baca-4927-a702-6d576c21bb7a button.colab-df-convert');\n",
              "        buttonEl.style.display =\n",
              "          google.colab.kernel.accessAllowed ? 'block' : 'none';\n",
              "\n",
              "        async function convertToInteractive(key) {\n",
              "          const element = document.querySelector('#df-293d0658-baca-4927-a702-6d576c21bb7a');\n",
              "          const dataTable =\n",
              "            await google.colab.kernel.invokeFunction('convertToInteractive',\n",
              "                                                     [key], {});\n",
              "          if (!dataTable) return;\n",
              "\n",
              "          const docLinkHtml = 'Like what you see? Visit the ' +\n",
              "            '<a target=\"_blank\" href=https://colab.research.google.com/notebooks/data_table.ipynb>data table notebook</a>'\n",
              "            + ' to learn more about interactive tables.';\n",
              "          element.innerHTML = '';\n",
              "          dataTable['output_type'] = 'display_data';\n",
              "          await google.colab.output.renderOutput(dataTable, element);\n",
              "          const docLink = document.createElement('div');\n",
              "          docLink.innerHTML = docLinkHtml;\n",
              "          element.appendChild(docLink);\n",
              "        }\n",
              "      </script>\n",
              "    </div>\n",
              "  </div>\n",
              "  "
            ]
          },
          "metadata": {},
          "execution_count": 11
        }
      ],
      "source": [
        "data.head()"
      ]
    },
    {
      "cell_type": "code",
      "execution_count": 4,
      "id": "6bc0817a",
      "metadata": {
        "id": "6bc0817a",
        "colab": {
          "base_uri": "https://localhost:8080/"
        },
        "outputId": "f34e2562-a8e1-4317-9432-67944e5071aa"
      },
      "outputs": [
        {
          "output_type": "execute_result",
          "data": {
            "text/plain": [
              "Sales rep    object\n",
              "Item         object\n",
              "Price         int64\n",
              "Quantity      int64\n",
              "Sale          int64\n",
              "dtype: object"
            ]
          },
          "metadata": {},
          "execution_count": 4
        }
      ],
      "source": [
        "data.dtypes"
      ]
    },
    {
      "cell_type": "code",
      "execution_count": 5,
      "id": "9e54c616",
      "metadata": {
        "id": "9e54c616",
        "colab": {
          "base_uri": "https://localhost:8080/"
        },
        "outputId": "063c3423-a879-49d1-81b8-c382472e9b3a"
      },
      "outputs": [
        {
          "output_type": "stream",
          "name": "stdout",
          "text": [
            "<class 'pandas.core.frame.DataFrame'>\n",
            "DatetimeIndex: 1000 entries, 2020-05-31 to 2020-01-26\n",
            "Data columns (total 5 columns):\n",
            " #   Column     Non-Null Count  Dtype \n",
            "---  ------     --------------  ----- \n",
            " 0   Sales rep  1000 non-null   object\n",
            " 1   Item       1000 non-null   object\n",
            " 2   Price      1000 non-null   int64 \n",
            " 3   Quantity   1000 non-null   int64 \n",
            " 4   Sale       1000 non-null   int64 \n",
            "dtypes: int64(3), object(2)\n",
            "memory usage: 46.9+ KB\n"
          ]
        }
      ],
      "source": [
        "data.info()"
      ]
    },
    {
      "cell_type": "code",
      "execution_count": 13,
      "id": "7eaba766",
      "metadata": {
        "id": "7eaba766"
      },
      "outputs": [],
      "source": [
        "reps_sales = data.groupby('Sales rep').sum()['Sale']"
      ]
    },
    {
      "cell_type": "code",
      "source": [
        "reps_sales"
      ],
      "metadata": {
        "colab": {
          "base_uri": "https://localhost:8080/"
        },
        "id": "-Wu-dwwpkEzL",
        "outputId": "0861ba0f-26e2-4828-8e91-f7ce5f3f448b"
      },
      "id": "-Wu-dwwpkEzL",
      "execution_count": 14,
      "outputs": [
        {
          "output_type": "execute_result",
          "data": {
            "text/plain": [
              "Sales rep\n",
              "Charlotte     74599\n",
              "Emma          65867\n",
              "Ethan         40970\n",
              "Liam          66989\n",
              "Mia           88199\n",
              "Noah          78575\n",
              "Oliver        89355\n",
              "Sophia       103480\n",
              "William       80400\n",
              "Name: Sale, dtype: int64"
            ]
          },
          "metadata": {},
          "execution_count": 14
        }
      ]
    },
    {
      "cell_type": "code",
      "execution_count": 15,
      "id": "a68b625c",
      "metadata": {
        "id": "a68b625c"
      },
      "outputs": [],
      "source": [
        "monthly_sale = data.groupby(pd.Grouper(freq='M')).sum()['Sale']\n",
        "monthly_sale.index = monthly_sale.index.month_name()"
      ]
    },
    {
      "cell_type": "code",
      "execution_count": 16,
      "id": "0a4fef39",
      "metadata": {
        "id": "0a4fef39",
        "colab": {
          "base_uri": "https://localhost:8080/"
        },
        "outputId": "c7c5bd2e-170d-48b4-85d2-27ee28eac060"
      },
      "outputs": [
        {
          "output_type": "execute_result",
          "data": {
            "text/plain": [
              "Date\n",
              "January      69990\n",
              "February     51847\n",
              "March        67500\n",
              "April        58401\n",
              "May          40319\n",
              "June         59397\n",
              "July         64251\n",
              "August       51571\n",
              "September    55666\n",
              "October      50093\n",
              "November     57458\n",
              "December     61941\n",
              "Name: Sale, dtype: int64"
            ]
          },
          "metadata": {},
          "execution_count": 16
        }
      ],
      "source": [
        "monthly_sale"
      ]
    },
    {
      "cell_type": "code",
      "execution_count": 30,
      "id": "e8573dc7",
      "metadata": {
        "id": "e8573dc7"
      },
      "outputs": [],
      "source": [
        "workbook = pd.ExcelWriter('SalesReport.xlsx')\n",
        "reps_sales.to_excel(workbook, sheet_name='Sales per rep')\n",
        "monthly_sale.to_excel(workbook, sheet_name='Monthly')\n",
        "workbook.close()"
      ]
    },
    {
      "cell_type": "code",
      "execution_count": null,
      "id": "5cc9ab17",
      "metadata": {
        "id": "5cc9ab17"
      },
      "outputs": [],
      "source": [
        "workbook = pd.ExcelWriter('SalesReport.xlsx')\n",
        "reps_sales.to_excel(workbook, sheet_name='Sales per rep')\n",
        "monthly_sale.to_excel(workbook, sheet_name='Monthly')\n",
        "\n",
        "chart1 = workbook.book.add_chart({'type': 'column'})\n",
        "\n",
        "# Configure the first series.abs\n",
        "chart1.add_series({\n",
        "    'name': 'Sales per rep',\n",
        "    'categories': \"=\\'Sales per rep\\'!$A$2:$A$10\",\n",
        "    'values': \"=\\'Sales per rep\\'!$B$2:$B$10\",\n",
        "\n",
        "})\n",
        "\n",
        "workbook.sheets['Sales per rep'].insert_chart('D2', chart1)\n",
        "\n",
        "\n",
        "chart1 = workbook.book.add_chart({'type': 'column'})\n",
        "\n",
        "# Configure the first series.abs\n",
        "chart1.add_series({\n",
        "    'name': 'Monthly sales',\n",
        "    'categories': '=Monthly!$A$2:$A$13',\n",
        "    'values': '=Monthly!$B$2:$B$13',\n",
        "\n",
        "})\n",
        "\n",
        "workbook.sheets['Monthly'].insert_chart('D2', chart1)\n",
        "\n",
        "workbook.close()"
      ]
    },
    {
      "cell_type": "code",
      "source": [],
      "metadata": {
        "id": "IaNwJ7UniLdx"
      },
      "id": "IaNwJ7UniLdx",
      "execution_count": null,
      "outputs": []
    }
  ],
  "metadata": {
    "language_info": {
      "name": "python"
    },
    "colab": {
      "provenance": [],
      "collapsed_sections": [],
      "include_colab_link": true
    },
    "kernelspec": {
      "name": "python3",
      "display_name": "Python 3"
    },
    "gpuClass": "standard"
  },
  "nbformat": 4,
  "nbformat_minor": 5
}