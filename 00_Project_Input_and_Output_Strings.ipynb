{
  "cells": [
    {
      "cell_type": "markdown",
      "metadata": {
        "id": "view-in-github",
        "colab_type": "text"
      },
      "source": [
        "<a href=\"https://colab.research.google.com/github/MlungisiN/Learn-Python-With-Rune/blob/master/00_Project_Input_and_Output_Strings.ipynb\" target=\"_parent\"><img src=\"https://colab.research.google.com/assets/colab-badge.svg\" alt=\"Open In Colab\"/></a>"
      ]
    },
    {
      "cell_type": "markdown",
      "id": "03b4e3d4",
      "metadata": {
        "id": "03b4e3d4"
      },
      "source": [
        "<a \n",
        " href=\"https://colab.research.google.com/github/LearnPythonWithRune/LearnPython/blob/main/colab/starter/00 - Project - Input and Output Strings.ipynb\"\n",
        " target=\"_parent\">\n",
        "<img \n",
        " src=\"https://colab.research.google.com/assets/colab-badge.svg\"\n",
        "alt=\"Open In Colab\"/>\n",
        "</a>"
      ]
    },
    {
      "cell_type": "markdown",
      "id": "cb5a5c6b",
      "metadata": {
        "id": "cb5a5c6b"
      },
      "source": [
        "# Project - Input and Output Strings\n",
        "### Goal\n",
        "- Get to know Jupyter Notebook\n",
        "- Execute your first program(s)"
      ]
    },
    {
      "cell_type": "markdown",
      "id": "127a9492",
      "metadata": {
        "id": "127a9492"
      },
      "source": [
        "### Description\n",
        "- This project is in 3 steps\n",
        "- The purpose is to get comforatble with Jupyter Notebook"
      ]
    },
    {
      "cell_type": "markdown",
      "id": "10620900",
      "metadata": {
        "id": "10620900"
      },
      "source": [
        "### Step 1\n",
        "- Make your first print \"Hello, World!\" program\n",
        "- Execute the cell"
      ]
    },
    {
      "cell_type": "code",
      "execution_count": 1,
      "id": "edef461c",
      "metadata": {
        "colab": {
          "base_uri": "https://localhost:8080/"
        },
        "id": "edef461c",
        "outputId": "3fbd77c9-0f0e-474c-9654-eaa3bc7d3f9c"
      },
      "outputs": [
        {
          "output_type": "stream",
          "name": "stdout",
          "text": [
            "Hello, World!\n"
          ]
        }
      ],
      "source": [
        "print (\"Hello, World!\")"
      ]
    },
    {
      "cell_type": "markdown",
      "id": "e4cc3f8e",
      "metadata": {
        "id": "e4cc3f8e"
      },
      "source": [
        "### Step 2\n",
        "- Use input to get the name from user.\n",
        "- Print *Hello* and the the name of the user"
      ]
    },
    {
      "cell_type": "code",
      "execution_count": 2,
      "id": "ac75093b",
      "metadata": {
        "colab": {
          "base_uri": "https://localhost:8080/"
        },
        "id": "ac75093b",
        "outputId": "e2a9da3a-936c-4281-d3c8-ee3ddf8806a9"
      },
      "outputs": [
        {
          "output_type": "stream",
          "name": "stdout",
          "text": [
            "What is your name? Mlungisi\n",
            "Hello Mlungisi\n"
          ]
        }
      ],
      "source": [
        "name = input(\"What is your name? \")\n",
        "print(\"Hello\", name)"
      ]
    },
    {
      "cell_type": "markdown",
      "id": "25b844b1",
      "metadata": {
        "id": "25b844b1"
      },
      "source": [
        "### Step 3\n",
        "- Use input to get the name from user.\n",
        "- Print \"I LIKE CAPITAL LETTER\" and the name capitalized by using **.upper()**"
      ]
    },
    {
      "cell_type": "code",
      "execution_count": 3,
      "id": "3fd33d0b",
      "metadata": {
        "colab": {
          "base_uri": "https://localhost:8080/"
        },
        "id": "3fd33d0b",
        "outputId": "9fa3d831-6c79-4ea4-b068-5ae9a242084c"
      },
      "outputs": [
        {
          "output_type": "stream",
          "name": "stdout",
          "text": [
            "What is your name? Mlungisi\n",
            "I LIKE CAPITAL LETTER MLUNGISI\n"
          ]
        }
      ],
      "source": [
        "name = input(\"What is your name? \")\n",
        "print(\"I LIKE CAPITAL LETTER\", name.upper())"
      ]
    }
  ],
  "metadata": {
    "colab": {
      "provenance": [],
      "collapsed_sections": [],
      "include_colab_link": true
    },
    "accelerator": "GPU",
    "language_info": {
      "name": "python"
    },
    "kernelspec": {
      "name": "python3",
      "display_name": "Python 3"
    }
  },
  "nbformat": 4,
  "nbformat_minor": 5
}