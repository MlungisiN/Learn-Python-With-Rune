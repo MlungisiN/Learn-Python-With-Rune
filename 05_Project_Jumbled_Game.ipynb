{
  "cells": [
    {
      "cell_type": "markdown",
      "metadata": {
        "id": "view-in-github",
        "colab_type": "text"
      },
      "source": [
        "<a href=\"https://colab.research.google.com/github/MlungisiN/Learn-Python-With-Rune/blob/master/05_Project_Jumbled_Game.ipynb\" target=\"_parent\"><img src=\"https://colab.research.google.com/assets/colab-badge.svg\" alt=\"Open In Colab\"/></a>"
      ]
    },
    {
      "cell_type": "markdown",
      "id": "6ee36e90",
      "metadata": {
        "id": "6ee36e90"
      },
      "source": [
        "<a \n",
        " href=\"https://colab.research.google.com/github/LearnPythonWithRune/LearnPython/blob/main/colab/starter/05 - Project - Jumbled Game.ipynb\"\n",
        " target=\"_parent\">\n",
        "<img \n",
        " src=\"https://colab.research.google.com/assets/colab-badge.svg\"\n",
        "alt=\"Open In Colab\"/>\n",
        "</a>"
      ]
    },
    {
      "cell_type": "markdown",
      "id": "0d8495d6",
      "metadata": {
        "id": "0d8495d6"
      },
      "source": [
        "# Project - Jumbled Game\n",
        "### Goal\n",
        "- Implement the [Jumbled Game](https://en.wikipedia.org/wiki/Jumble)"
      ]
    },
    {
      "cell_type": "markdown",
      "id": "b36dc87a",
      "metadata": {
        "id": "b36dc87a"
      },
      "source": [
        "### Description\n",
        "- A word jumble is a word puzzle game that presents the player with a bunch of mixed up letters and requires them to unscramble the letters to find the hidden word.\n",
        "- The computer will take word and jumble it (mix up the letters).\n",
        "- Then the player will guess what the word is\n",
        "- An initial word list could be: ['father', 'enterprise', 'science', 'programming', 'resistance', 'fiction', 'condition', 'reverse', 'computer', 'python']"
      ]
    },
    {
      "cell_type": "code",
      "execution_count": 1,
      "id": "30c0ebc7",
      "metadata": {
        "id": "30c0ebc7"
      },
      "outputs": [],
      "source": [
        "import random"
      ]
    },
    {
      "cell_type": "code",
      "execution_count": 5,
      "id": "2b834253",
      "metadata": {
        "id": "2b834253"
      },
      "outputs": [],
      "source": [
        "word_list = ['father', 'enterprise', 'science', 'programming', 'resistance', 'fiction', 'condition', 'reverse', 'computer', 'python']"
      ]
    },
    {
      "cell_type": "code",
      "source": [
        "selection = random.choice(word_list)\n",
        "#print(selection)\n",
        "jumbled_word = ''.join(random.sample(selection, len(selection)))\n",
        "print(f\"The jumbled word is {jumbled_word}\")\n",
        "answer = input(\"What is the unscrambled word? \")\n",
        "if answer == selection:\n",
        "  print(\"Correct Answer!\")\n",
        "else:\n",
        "  print(f\"Incorrect, the correct answer is {selection}\")"
      ],
      "metadata": {
        "colab": {
          "base_uri": "https://localhost:8080/"
        },
        "id": "X02czw0uFVxM",
        "outputId": "fd3e10ec-9367-43fc-cdba-34bdfaa5485d"
      },
      "id": "X02czw0uFVxM",
      "execution_count": 32,
      "outputs": [
        {
          "output_type": "stream",
          "name": "stdout",
          "text": [
            "The jumbled word is easetncisr\n",
            "What is the unscrambled word? resistance\n",
            "Correct Answer!\n"
          ]
        }
      ]
    },
    {
      "cell_type": "code",
      "source": [],
      "metadata": {
        "id": "YJ452KyJJLth"
      },
      "id": "YJ452KyJJLth",
      "execution_count": null,
      "outputs": []
    }
  ],
  "metadata": {
    "colab": {
      "provenance": [],
      "include_colab_link": true
    },
    "language_info": {
      "name": "python"
    },
    "kernelspec": {
      "name": "python3",
      "display_name": "Python 3"
    }
  },
  "nbformat": 4,
  "nbformat_minor": 5
}