{
  "cells": [
    {
      "cell_type": "markdown",
      "metadata": {
        "id": "view-in-github",
        "colab_type": "text"
      },
      "source": [
        "<a href=\"https://colab.research.google.com/github/MlungisiN/Learn-Python-With-Rune/blob/master/08_Project_Capitals_and_Frequency_Count.ipynb\" target=\"_parent\"><img src=\"https://colab.research.google.com/assets/colab-badge.svg\" alt=\"Open In Colab\"/></a>"
      ]
    },
    {
      "cell_type": "markdown",
      "metadata": {
        "id": "cc2f76a4"
      },
      "source": [
        "<a \n",
        " href=\"https://colab.research.google.com/github/LearnPythonWithRune/LearnPython/blob/main/colab/starter/08 - Project - Capitals and Frequency Count.ipynb\"\n",
        " target=\"_parent\">\n",
        "<img \n",
        " src=\"https://colab.research.google.com/assets/colab-badge.svg\"\n",
        "alt=\"Open In Colab\"/>\n",
        "</a>"
      ],
      "id": "cc2f76a4"
    },
    {
      "cell_type": "markdown",
      "metadata": {
        "id": "cf2c265e"
      },
      "source": [
        "# Project - Capitals and Frequency Count\n",
        "### Goal\n",
        "- Guess a Captial Game\n",
        "- Frequency Count"
      ],
      "id": "cf2c265e"
    },
    {
      "cell_type": "markdown",
      "metadata": {
        "id": "e9b4e2f3"
      },
      "source": [
        "### Description of Guess a Capital Game\n",
        "- Use a dictionary to keep country-capital pairs as key-value.\n",
        "    - {'France': 'Paris', 'Finland': 'Helsinki', 'Sweden': 'Stockholm', 'Denmark': 'Copenhagen'}\n",
        "- Prompt the user 3 times for a capital in a country.\n",
        "- Print the number of correct capitals.\n",
        "- Feel free to print whether answer is correct, and what it is."
      ],
      "id": "e9b4e2f3"
    },
    {
      "cell_type": "code",
      "source": [
        "import random"
      ],
      "metadata": {
        "id": "Oyc7lgg0NjPa"
      },
      "id": "Oyc7lgg0NjPa",
      "execution_count": 2,
      "outputs": []
    },
    {
      "cell_type": "code",
      "execution_count": 31,
      "metadata": {
        "colab": {
          "base_uri": "https://localhost:8080/"
        },
        "id": "6eda36c5",
        "outputId": "e362b6ff-7ce0-4e90-fd48-c7043d92647b"
      },
      "outputs": [
        {
          "output_type": "stream",
          "name": "stdout",
          "text": [
            "What is the capital of Denmark? copenhagen\n",
            "Correct, the capital of Denmark is Copenhagen\n",
            "What is the capital of France? paris\n",
            "Correct, the capital of France is Paris\n",
            "What is the capital of Denmark? helsinki\n",
            "Incorrect the capital of Denmark is Copenhagen\n",
            "Your score is 2\n"
          ]
        }
      ],
      "source": [
        "capitals = {'France': 'Paris', 'Finland': 'Helsinki', 'Sweden': 'Stockholm', 'Denmark': 'Copenhagen'}\n",
        "\n",
        "score = 0\n",
        "\n",
        "for item in range(3):\n",
        "  country = random.choice(list(capitals.keys()))\n",
        "\n",
        "  answer = input(f\"What is the capital of {country}? \")\n",
        "\n",
        "  if answer.lower() == capitals[country].lower():\n",
        "    print(f\"Correct, the capital of {country} is {capitals[country]}\")\n",
        "    score = score + 1\n",
        "  else:\n",
        "    print(f\"Incorrect the capital of {country} is {capitals[country]}\")\n",
        "\n",
        "print(f\"Your score is {score}\")"
      ],
      "id": "6eda36c5"
    },
    {
      "cell_type": "markdown",
      "metadata": {
        "id": "2eec9dd1"
      },
      "source": [
        "\n",
        "### Description of Frequency Count\n",
        "- Prompt the user for a line of text\n",
        "- Use a dictionary to make frequency count of the letters.\n",
        "- Print the frequencies"
      ],
      "id": "2eec9dd1"
    },
    {
      "cell_type": "code",
      "execution_count": 1,
      "metadata": {
        "id": "6b992e6f",
        "colab": {
          "base_uri": "https://localhost:8080/"
        },
        "outputId": "7b7276a1-3e3a-4353-a495-27abdb91d389"
      },
      "outputs": [
        {
          "output_type": "stream",
          "name": "stdout",
          "text": [
            "Write a line of text: This is my line of text\n",
            "t: 3\n",
            "h: 1\n",
            "i: 3\n",
            "s: 2\n",
            " : 5\n",
            "m: 1\n",
            "y: 1\n",
            "l: 1\n",
            "n: 1\n",
            "e: 2\n",
            "o: 1\n",
            "f: 1\n",
            "x: 1\n"
          ]
        }
      ],
      "source": [
        "text = input(\"Write a line of text: \")\n",
        "\n",
        "frequency = {}\n",
        "for characters in text:\n",
        "  characters = characters.lower()\n",
        "  frequency[characters] = frequency.get(characters, 0) + 1\n",
        "\n",
        "for key, value in frequency.items():\n",
        "  print(f\"{key}: {value}\")"
      ],
      "id": "6b992e6f"
    },
    {
      "cell_type": "code",
      "source": [],
      "metadata": {
        "id": "ZQmg2Lwlxw5T"
      },
      "id": "ZQmg2Lwlxw5T",
      "execution_count": null,
      "outputs": []
    }
  ],
  "metadata": {
    "colab": {
      "provenance": [],
      "collapsed_sections": [],
      "include_colab_link": true
    },
    "language_info": {
      "name": "python"
    },
    "kernelspec": {
      "name": "python3",
      "display_name": "Python 3"
    }
  },
  "nbformat": 4,
  "nbformat_minor": 5
}