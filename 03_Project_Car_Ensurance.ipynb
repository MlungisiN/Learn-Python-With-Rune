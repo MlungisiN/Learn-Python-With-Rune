{
  "cells": [
    {
      "cell_type": "markdown",
      "metadata": {
        "id": "view-in-github",
        "colab_type": "text"
      },
      "source": [
        "<a href=\"https://colab.research.google.com/github/MlungisiN/Learn-Python-With-Rune/blob/master/03_Project_Car_Ensurance.ipynb\" target=\"_parent\"><img src=\"https://colab.research.google.com/assets/colab-badge.svg\" alt=\"Open In Colab\"/></a>"
      ]
    },
    {
      "cell_type": "markdown",
      "id": "1b536772",
      "metadata": {
        "id": "1b536772"
      },
      "source": [
        "<a \n",
        " href=\"https://colab.research.google.com/github/LearnPythonWithRune/LearnPython/blob/main/colab/starter/03 - Project - Car Ensurance.ipynb\"\n",
        " target=\"_parent\">\n",
        "<img \n",
        " src=\"https://colab.research.google.com/assets/colab-badge.svg\"\n",
        "alt=\"Open In Colab\"/>\n",
        "</a>"
      ]
    },
    {
      "cell_type": "markdown",
      "id": "967c045e",
      "metadata": {
        "id": "967c045e"
      },
      "source": [
        "# Project - Car Ensurance\n",
        "### Goal\n",
        "- Car ensurance calculation based on the following decision tree"
      ]
    },
    {
      "cell_type": "markdown",
      "id": "e346a214",
      "metadata": {
        "id": "e346a214"
      },
      "source": [
        "![alt text](img/DecisionTree.png \"Title\")"
      ]
    },
    {
      "cell_type": "markdown",
      "id": "055cfb9a",
      "metadata": {
        "id": "055cfb9a"
      },
      "source": [
        "### Description\n",
        "- This is a fictional car insurance company called Car Crash\n",
        "- They calculate the yearly ensurance price based on the current market price of the car\n",
        "- Given the market price: market_price\n",
        "- Then the yearly ensurance price is 9% of the market_price if it is a male above 26 years old.\n",
        "- As we see in the decision tree, we have 4 possible price calculations.\n",
        "- Create a program, which takes input and based on that calculated the correct price for all 4 cases"
      ]
    },
    {
      "cell_type": "code",
      "execution_count": null,
      "id": "cf569ae7",
      "metadata": {
        "id": "cf569ae7"
      },
      "outputs": [],
      "source": []
    }
  ],
  "metadata": {
    "colab": {
      "provenance": [],
      "include_colab_link": true
    }
  },
  "nbformat": 4,
  "nbformat_minor": 5
}