{
  "cells": [
    {
      "cell_type": "markdown",
      "metadata": {
        "id": "view-in-github",
        "colab_type": "text"
      },
      "source": [
        "<a href=\"https://colab.research.google.com/github/MlungisiN/Learn-Python-With-Rune/blob/master/13_Project_Visualization_Scatter_plot_and_Histograms.ipynb\" target=\"_parent\"><img src=\"https://colab.research.google.com/assets/colab-badge.svg\" alt=\"Open In Colab\"/></a>"
      ]
    },
    {
      "cell_type": "markdown",
      "id": "f9977832",
      "metadata": {
        "id": "f9977832"
      },
      "source": [
        "<a \n",
        " href=\"https://colab.research.google.com/github/LearnPythonWithRune/LearnPython/blob/main/colab/starter/13 - Project - Visualization - Scatter plot and Histograms.ipynb\"\n",
        " target=\"_parent\">\n",
        "<img \n",
        " src=\"https://colab.research.google.com/assets/colab-badge.svg\"\n",
        "alt=\"Open In Colab\"/>\n",
        "</a>"
      ]
    },
    {
      "cell_type": "markdown",
      "id": "b30ee0c0",
      "metadata": {
        "id": "b30ee0c0"
      },
      "source": [
        "# Project - Horsepower vs Torque and Roll Dice\n",
        "### Goal\n",
        "- Learn how to make scatter plot and histograms"
      ]
    },
    {
      "cell_type": "markdown",
      "id": "352fdcea",
      "metadata": {
        "id": "352fdcea"
      },
      "source": [
        "### Horsepower vs Torque\n",
        "- Import matplotlib.pyplot as plt and use %matplotlib inline.\n",
        "- Import csv\n",
        "- Read the files/cars.csv wil into a list of dictionaries.\n",
        "- Use list comprehension to get\n",
        "    - Horsepwer\n",
        "    - Torque\n",
        "    - Bonus: Fuel City mpg\n",
        "- Make a scatter plot\n",
        "    - Options: Use alpha=.25 and c= with the list of Fuel City mpg"
      ]
    },
    {
      "cell_type": "code",
      "execution_count": 1,
      "id": "cc9760a2",
      "metadata": {
        "id": "cc9760a2"
      },
      "outputs": [],
      "source": [
        "import matplotlib.pyplot as plt\n",
        "%matplotlib inline "
      ]
    },
    {
      "cell_type": "code",
      "execution_count": 2,
      "id": "04582fc2",
      "metadata": {
        "id": "04582fc2"
      },
      "outputs": [],
      "source": [
        "import urllib.request\n",
        "import csv"
      ]
    },
    {
      "cell_type": "code",
      "execution_count": 3,
      "id": "6a92a259",
      "metadata": {
        "id": "6a92a259"
      },
      "outputs": [],
      "source": [
        "remote_file = \"https://raw.githubusercontent.com/MlungisiN/Learn-Python-With-Rune/master/files/cars.csv\"\n",
        "\n",
        "with urllib.request.urlopen(remote_file) as f:\n",
        "    csv_reader = csv.DictReader(f.read().decode().split('\\n'))\n",
        "    cars = list(csv_reader)"
      ]
    },
    {
      "cell_type": "code",
      "execution_count": 11,
      "id": "f49a7dc2",
      "metadata": {
        "colab": {
          "base_uri": "https://localhost:8080/"
        },
        "id": "f49a7dc2",
        "outputId": "ebcfd176-7c32-4cd8-a1fa-69adfd1b6081"
      },
      "outputs": [
        {
          "output_type": "execute_result",
          "data": {
            "text/plain": [
              "OrderedDict([('Height', '140'),\n",
              "             ('Length', '143'),\n",
              "             ('Width', '202'),\n",
              "             ('Engine Driveline', 'All-wheel drive'),\n",
              "             ('Engine Type', 'Audi 3.2L 6 cylinder 250hp 236ft-lbs'),\n",
              "             ('Engine Hybrid', 'True'),\n",
              "             ('Number of Forward Gears', '6'),\n",
              "             ('Engine Transmission', '6 Speed Automatic Select Shift'),\n",
              "             ('Fuel City mpg', '18'),\n",
              "             ('Fuel Type', 'Gasoline'),\n",
              "             ('Fuel Highway mpg', '25'),\n",
              "             ('Classification', 'Automatic transmission'),\n",
              "             ('ID', '2009 Audi A3 3.2'),\n",
              "             ('Make', 'Audi'),\n",
              "             ('Model Year', '2009 Audi A3'),\n",
              "             ('Year', '2009'),\n",
              "             ('Horsepower', '250'),\n",
              "             ('Torque', '236')])"
            ]
          },
          "metadata": {},
          "execution_count": 11
        }
      ],
      "source": [
        "cars[0]"
      ]
    },
    {
      "cell_type": "code",
      "execution_count": 13,
      "id": "17527b81",
      "metadata": {
        "id": "17527b81"
      },
      "outputs": [],
      "source": [
        "horsepower = [int(car['Horsepower']) for car in cars]\n",
        "torque = [int(car['Torque']) for car in cars]\n",
        "mpg = [int(car['Fuel City mpg']) for car in cars]"
      ]
    },
    {
      "cell_type": "code",
      "execution_count": 19,
      "id": "9864e3ea",
      "metadata": {
        "colab": {
          "base_uri": "https://localhost:8080/",
          "height": 313
        },
        "id": "9864e3ea",
        "outputId": "eebc9408-d5bd-494f-d7a2-9d247a8f444e"
      },
      "outputs": [
        {
          "output_type": "execute_result",
          "data": {
            "text/plain": [
              "Text(0, 0.5, 'Torque')"
            ]
          },
          "metadata": {},
          "execution_count": 19
        },
        {
          "output_type": "display_data",
          "data": {
            "text/plain": [
              "<Figure size 432x288 with 1 Axes>"
            ],
            "image/png": "[encoded data removed]"
          },
          "metadata": {
            "needs_background": "light"
          }
        }
      ],
      "source": [
        "fig, ax = plt.subplots()\n",
        "\n",
        "ax.scatter(horsepower, torque, alpha=.25, c=mpg)\n",
        "ax.set_title(\"Horsepower vs Torque\")\n",
        "ax.set_xlabel(\"Horsepower\")\n",
        "ax.set_ylabel(\"Torque\")"
      ]
    },
    {
      "cell_type": "markdown",
      "id": "d837fa92",
      "metadata": {
        "id": "d837fa92"
      },
      "source": [
        "### Roll Dice\n",
        "- Import random\n",
        "- Create a functin role_dice(), which simulates a roll of 2 dice.\n",
        "- Use list comprehension to create a list of 500 calls to role_dice().\n",
        "- Create a histogram with 11 bins of the list."
      ]
    },
    {
      "cell_type": "code",
      "execution_count": 20,
      "id": "9be2c73b",
      "metadata": {
        "id": "9be2c73b"
      },
      "outputs": [],
      "source": [
        "import random"
      ]
    },
    {
      "cell_type": "code",
      "execution_count": 21,
      "id": "509bb692",
      "metadata": {
        "id": "509bb692"
      },
      "outputs": [],
      "source": [
        "def roll_dice():\n",
        "  return random.randint(1, 6) + random.randint(1, 6)"
      ]
    },
    {
      "cell_type": "code",
      "execution_count": 23,
      "id": "80e01baa",
      "metadata": {
        "colab": {
          "base_uri": "https://localhost:8080/"
        },
        "id": "80e01baa",
        "outputId": "141fa01e-da33-4581-df49-2613884276d5"
      },
      "outputs": [
        {
          "output_type": "execute_result",
          "data": {
            "text/plain": [
              "2"
            ]
          },
          "metadata": {},
          "execution_count": 23
        }
      ],
      "source": [
        "roll_dice()"
      ]
    },
    {
      "cell_type": "code",
      "execution_count": 24,
      "id": "99bb1c6f",
      "metadata": {
        "id": "99bb1c6f"
      },
      "outputs": [],
      "source": [
        "dice_data = [roll_dice() for it in range(500)]"
      ]
    },
    {
      "cell_type": "code",
      "execution_count": 26,
      "id": "01e1aea1",
      "metadata": {
        "colab": {
          "base_uri": "https://localhost:8080/"
        },
        "id": "01e1aea1",
        "outputId": "35e47a9f-cbec-4c3b-aa35-365f722b05d6"
      },
      "outputs": [
        {
          "output_type": "execute_result",
          "data": {
            "text/plain": [
              "500"
            ]
          },
          "metadata": {},
          "execution_count": 26
        }
      ],
      "source": [
        "len(dice_data)"
      ]
    },
    {
      "cell_type": "code",
      "execution_count": 27,
      "id": "14347137",
      "metadata": {
        "colab": {
          "base_uri": "https://localhost:8080/"
        },
        "id": "14347137",
        "outputId": "df18b409-77a7-48ad-b91f-5058e98d4d60"
      },
      "outputs": [
        {
          "output_type": "execute_result",
          "data": {
            "text/plain": [
              "2"
            ]
          },
          "metadata": {},
          "execution_count": 27
        }
      ],
      "source": [
        "min(dice_data)"
      ]
    },
    {
      "cell_type": "code",
      "execution_count": 28,
      "id": "f7399fd6",
      "metadata": {
        "colab": {
          "base_uri": "https://localhost:8080/"
        },
        "id": "f7399fd6",
        "outputId": "5ed4e703-22bd-4d8d-a293-b385e1e69658"
      },
      "outputs": [
        {
          "output_type": "execute_result",
          "data": {
            "text/plain": [
              "12"
            ]
          },
          "metadata": {},
          "execution_count": 28
        }
      ],
      "source": [
        "max(dice_data)"
      ]
    },
    {
      "cell_type": "code",
      "source": [
        "fig, ax = plt.subplots()\n",
        "\n",
        "ax.hist(dice_data, bins = 11)"
      ],
      "metadata": {
        "colab": {
          "base_uri": "https://localhost:8080/",
          "height": 357
        },
        "id": "x_TZ5BRj8YgF",
        "outputId": "3de1ebf9-a697-46bb-e141-0a65c2f5fbdd"
      },
      "id": "x_TZ5BRj8YgF",
      "execution_count": 29,
      "outputs": [
        {
          "output_type": "execute_result",
          "data": {
            "text/plain": [
              "(array([12., 23., 41., 65., 73., 78., 68., 51., 41., 33., 15.]),\n",
              " array([ 2.        ,  2.90909091,  3.81818182,  4.72727273,  5.63636364,\n",
              "         6.54545455,  7.45454545,  8.36363636,  9.27272727, 10.18181818,\n",
              "        11.09090909, 12.        ]),\n",
              " <a list of 11 Patch objects>)"
            ]
          },
          "metadata": {},
          "execution_count": 29
        },
        {
          "output_type": "display_data",
          "data": {
            "text/plain": [
              "<Figure size 432x288 with 1 Axes>"
            ],
            "image/png": "[encoded data removed]"
          },
          "metadata": {
            "needs_background": "light"
          }
        }
      ]
    },
    {
      "cell_type": "code",
      "source": [],
      "metadata": {
        "id": "kOf54T3V8pOZ"
      },
      "id": "kOf54T3V8pOZ",
      "execution_count": null,
      "outputs": []
    }
  ],
  "metadata": {
    "language_info": {
      "name": "python"
    },
    "colab": {
      "provenance": [],
      "collapsed_sections": [],
      "include_colab_link": true
    },
    "kernelspec": {
      "name": "python3",
      "display_name": "Python 3"
    },
    "gpuClass": "standard"
  },
  "nbformat": 4,
  "nbformat_minor": 5
}